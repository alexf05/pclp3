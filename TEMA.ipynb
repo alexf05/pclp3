{
  "nbformat": 4,
  "nbformat_minor": 0,
  "metadata": {
    "colab": {
      "provenance": [],
      "authorship_tag": "ABX9TyOOWzs9YfBklV72FMm69r3G",
      "include_colab_link": true
    },
    "kernelspec": {
      "name": "python3",
      "display_name": "Python 3"
    },
    "language_info": {
      "name": "python"
    }
  },
  "cells": [
    {
      "cell_type": "markdown",
      "metadata": {
        "id": "view-in-github",
        "colab_type": "text"
      },
      "source": [
        "<a href=\"https://colab.research.google.com/github/alexf05/pclp3/blob/main/TEMA.ipynb\" target=\"_parent\"><img src=\"https://colab.research.google.com/assets/colab-badge.svg\" alt=\"Open In Colab\"/></a>"
      ]
    },
    {
      "cell_type": "code",
      "execution_count": null,
      "metadata": {
        "id": "eLg5hSZxebxt"
      },
      "outputs": [],
      "source": [
        "# pclp3 tema\n",
        "# FECHET Alex-Ciprian, 314CA\n",
        "# JILAVEANU Mihnea, 314CA"
      ]
    },
    {
      "cell_type": "markdown",
      "source": [
        "Partea I - Fechet Alex\n",
        "Am ales o problema de regresie liniara,Predicția duratei de somn în funcție de obiceiuri zilnice.\n",
        "Am optat pentru generarea sintetică a unui dataset care să aibă sens contextual.\n",
        "Setul de date este compus din 8 coloane: varsta, gen, ore petrecute in fata unui ecran, numarul de cafele consumate, timpul de sport facut (masurat in minute), nivelul de stres, ora de culcare si coloana finala - durata de somn, pe care vom aplica si regresia liniara. Acesta este calculata cu o formula intuitiva, de la 8 ore, scadem proportional cu nr de ore de ecran, nr de cafele, intarzierea orei de culcare, zgomotului, si creste cu practicarea sportului."
      ],
      "metadata": {
        "id": "-Dj_DVHTEILk"
      }
    },
    {
      "cell_type": "markdown",
      "source": [],
      "metadata": {
        "id": "A4LuBoY5HVjs"
      }
    },
    {
      "cell_type": "code",
      "source": [
        "import pandas as pd\n",
        "import numpy as np\n",
        "from sklearn.model_selection import train_test_split\n",
        "\n",
        "# Setare seed pentru consistență\n",
        "np.random.seed(42)\n",
        "\n",
        "# Număr total de exemple\n",
        "num_rows = 800\n",
        "\n",
        "# Variabile simulate\n",
        "varsta = np.random.randint(18, 60, size=num_rows)\n",
        "gen = np.random.choice(['M', 'F'], size=num_rows)\n",
        "ore_ecran = np.round(np.random.normal(5, 2, size=num_rows), 1)\n",
        "ore_ecran = np.clip(ore_ecran, 0, 12)\n",
        "\n",
        "cafea = np.random.poisson(1.5, size=num_rows)\n",
        "minute_sport = np.random.randint(0, 120, size=num_rows)\n",
        "nivel_stres = np.random.choice(['scazut', 'mediu', 'ridicat'], size=num_rows, p=[0.3, 0.5, 0.2])\n",
        "\n",
        "ora_culcare = np.random.normal(23, 1.5, size=num_rows)  # ex: între 20–26 natural\n",
        "ora_culcare = np.clip(ora_culcare, 20, 26)              # limităm între 20 și 26\n",
        "ora_culcare = np.where(ora_culcare >= 24, ora_culcare - 24, ora_culcare)\n",
        "ora_culcare = np.around(ora_culcare, 1)\n",
        "zgomot = np.random.normal(60, 80, size=num_rows)\n",
        "\n",
        "# Simulare logică a duratei somnului (variabila țintă)\n",
        "durata_somn = (\n",
        "    8\n",
        "    - 0.3 * ore_ecran\n",
        "    - 0.4 * cafea\n",
        "    + 0.01 * minute_sport\n",
        "    - 0.2 * (ora_culcare - 22)\n",
        "    - 0.5 * (zgomot > 70)\n",
        ")\n",
        "durata_somn = np.round(np.clip(durata_somn, 3.5, 10), 1)\n",
        "\n",
        "# Creăm DataFrame\n",
        "df = pd.DataFrame({\n",
        "    'varsta': varsta,\n",
        "    'gen': gen,\n",
        "    'ore_ecran': ore_ecran,\n",
        "    'cafea': cafea,\n",
        "    'minute_sport': minute_sport,\n",
        "    'nivel_stres': nivel_stres,\n",
        "    'ora_culcare': ora_culcare,\n",
        "    'durata_somn': durata_somn\n",
        "})\n",
        "\n",
        "#stimulam lipsuri\n",
        "total_cells = df.shape[0] * df.shape[1]\n",
        "num_missing = int(total_cells * 0.05)\n",
        "\n",
        "for i in range(num_missing):\n",
        "    row = np.random.randint(0, df.shape[0])  # rând random\n",
        "    col = np.random.randint(0, 7)\n",
        "\n",
        "    df.iat[row, col] = np.nan\n",
        "\n",
        "\n",
        "\n",
        "\n",
        "# Salvăm într-un CSV complet\n",
        "df_train, df_test = train_test_split(df, test_size=0.2, random_state=42)\n",
        "df_train.to_csv(\"train_dataset.csv\", index=False)\n",
        "df_test.to_csv(\"test_dataset.csv\", index=False)\n",
        "X = df.iloc[:, 0:7]\n",
        "y = df.iloc[:, 7]\n",
        "X_train, X_test, y_train, y_test = train_test_split(X, y, test_size=0.2, random_state=42)\n",
        "\n",
        "\n",
        "\n"
      ],
      "metadata": {
        "id": "7cevw1u7FTbG"
      },
      "execution_count": 31,
      "outputs": []
    },
    {
      "cell_type": "code",
      "source": [
        "print(\"Valori lipsă în X_train:\\n\", X_train.isnull().sum())\n",
        "print(\"\\nValori lipsă în X_test:\\n\", X_test.isnull().sum())\n",
        "\n",
        "# Calculăm media pentru fiecare coloană numerică din X_train\n",
        "mean_values = X_train.mean(numeric_only=True)\n",
        "\n",
        "# Înlocuim valorile lipsă în X_train și X_test cu media din X_train\n",
        "X_train_filled = X_train.fillna(mean_values)\n",
        "X_test_filled = X_test.fillna(mean_values)"
      ],
      "metadata": {
        "colab": {
          "base_uri": "https://localhost:8080/"
        },
        "id": "EqGhioW1AI9A",
        "outputId": "b595e5a0-281d-4b69-e3a4-0cec87851db0"
      },
      "execution_count": 32,
      "outputs": [
        {
          "output_type": "stream",
          "name": "stdout",
          "text": [
            "Valori lipsă în X_train:\n",
            " varsta          37\n",
            "gen             31\n",
            "ore_ecran       46\n",
            "cafea           32\n",
            "minute_sport    41\n",
            "nivel_stres     30\n",
            "ora_culcare     33\n",
            "dtype: int64\n",
            "\n",
            "Valori lipsă în X_test:\n",
            " varsta          10\n",
            "gen              9\n",
            "ore_ecran       10\n",
            "cafea           11\n",
            "minute_sport     8\n",
            "nivel_stres      3\n",
            "ora_culcare      8\n",
            "dtype: int64\n"
          ]
        }
      ]
    },
    {
      "cell_type": "code",
      "source": [
        "\n",
        "\n",
        "# import seaborn as sns\n",
        "# import matplotlib.pyplot as plt\n",
        "\n",
        "# # Histograme pentru numerice\n",
        "# X_train.select_dtypes(include=['int64', 'float64']).hist(bins=20, figsize=(15, 10))\n",
        "# plt.tight_layout()\n",
        "# plt.show()\n",
        "\n",
        "# # Countplot pentru categorice (exemplu)\n",
        "# for col in X_train.select_dtypes(include=['object']).columns:\n",
        "#     plt.figure(figsize=(6, 4))\n",
        "#     sns.countplot(data=X_train, x=col)\n",
        "#     plt.title(f\"Distribuție pentru {col}\")\n",
        "#     plt.xticks(rotation=45)\n",
        "#     plt.tight_layout()\n",
        "#     plt.show()\n",
        "\n",
        "# # Boxplot pentru fiecare coloană numerică\n",
        "# for col in X_train.select_dtypes(include=['int64', 'float64']).columns:\n",
        "#     plt.figure(figsize=(6, 4))\n",
        "#     sns.boxplot(x=X_train[col])\n",
        "#     plt.title(f\"Boxplot pentru {col}\")\n",
        "#     plt.show()\n",
        "\n",
        "\n",
        "# corr = X_train.select_dtypes(include=['int64', 'float64']).corr()\n",
        "\n",
        "# plt.figure(figsize=(10, 8))\n",
        "# sns.heatmap(corr, annot=True, cmap='coolwarm')\n",
        "# plt.title(\"Matrice de corelații\")\n",
        "# plt.show()\n",
        "\n",
        "\n",
        "# # Violin plot pentru numerică vs target\n",
        "# for col in X_train.select_dtypes(include=['int64', 'float64']).columns:\n",
        "#     plt.figure(figsize=(6, 4))\n",
        "#     sns.violinplot(x=y_train, y=X_train[col])\n",
        "#     plt.title(f\"Distribuția {col} în funcție de target\")\n",
        "#     plt.show()\n",
        "\n",
        "\n",
        "# # Scatter plot între fiecare coloană și target\n",
        "# for col in X_train.select_dtypes(include=['int64', 'float64']).columns:\n",
        "#     plt.figure(figsize=(6, 4))\n",
        "#     sns.scatterplot(x=X_train[col], y=y_train)\n",
        "#     plt.title(f\"Relație {col} - target\")\n",
        "#     plt.show()"
      ],
      "metadata": {
        "id": "mARXF-GJ8DrN"
      },
      "execution_count": null,
      "outputs": []
    }
  ]
}