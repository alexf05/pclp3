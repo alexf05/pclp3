{
  "nbformat": 4,
  "nbformat_minor": 0,
  "metadata": {
    "colab": {
      "provenance": [],
      "authorship_tag": "ABX9TyNpOpCFwqEh++84aSE6jbpa",
      "include_colab_link": true
    },
    "kernelspec": {
      "name": "python3",
      "display_name": "Python 3"
    },
    "language_info": {
      "name": "python"
    }
  },
  "cells": [
    {
      "cell_type": "markdown",
      "metadata": {
        "id": "view-in-github",
        "colab_type": "text"
      },
      "source": [
        "<a href=\"https://colab.research.google.com/github/alexf05/pclp3/blob/main/TEMA.ipynb\" target=\"_parent\"><img src=\"https://colab.research.google.com/assets/colab-badge.svg\" alt=\"Open In Colab\"/></a>"
      ]
    },
    {
      "cell_type": "code",
      "execution_count": null,
      "metadata": {
        "id": "eLg5hSZxebxt"
      },
      "outputs": [],
      "source": [
        "# pclp3 tema\n",
        "# FECHET Alex-Ciprian, 314CA\n",
        "# JILAVEANU Mihnea, 314CA"
      ]
    },
    {
      "cell_type": "markdown",
      "source": [
        "Partea I - Fechet Alex\n",
        "Am ales o problema de regresie liniara,Predicția duratei de somn în funcție de obiceiuri zilnice.\n",
        "Am optat pentru generarea sintetică a unui dataset care să aibă sens contextual."
      ],
      "metadata": {
        "id": "-Dj_DVHTEILk"
      }
    },
    {
      "cell_type": "code",
      "source": [
        "from sklearn.model_selection import train_test_split\n",
        "\n",
        "train_df, test_df = train_test_split(full_df, test_size=0.3, random_state=42)\n",
        "train_df.to_csv(\"train.csv\", index=False)\n",
        "test_df.to_csv(\"test.csv\", index=False)\n"
      ],
      "metadata": {
        "id": "7cevw1u7FTbG"
      },
      "execution_count": null,
      "outputs": []
    }
  ]
}