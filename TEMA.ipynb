{
  "nbformat": 4,
  "nbformat_minor": 0,
  "metadata": {
    "colab": {
      "provenance": [],
      "authorship_tag": "ABX9TyMq9ec230WmRmxSxZbmXLO2",
      "include_colab_link": true
    },
    "kernelspec": {
      "name": "python3",
      "display_name": "Python 3"
    },
    "language_info": {
      "name": "python"
    }
  },
  "cells": [
    {
      "cell_type": "markdown",
      "metadata": {
        "id": "view-in-github",
        "colab_type": "text"
      },
      "source": [
        "<a href=\"https://colab.research.google.com/github/alexf05/pclp3/blob/main/TEMA.ipynb\" target=\"_parent\"><img src=\"https://colab.research.google.com/assets/colab-badge.svg\" alt=\"Open In Colab\"/></a>"
      ]
    },
    {
      "cell_type": "code",
      "execution_count": null,
      "metadata": {
        "id": "eLg5hSZxebxt"
      },
      "outputs": [],
      "source": [
        "# pclp3 tema\n",
        "# FECHET Alex-Ciprian, 314CA\n",
        "# JILAVEANU Mihnea, 314CA"
      ]
    },
    {
      "cell_type": "markdown",
      "source": [
        "Partea I - Fechet Alex\n",
        "Am ales o problema de regresie liniara,Predicția duratei de somn în funcție de obiceiuri zilnice.\n",
        "Am optat pentru generarea sintetică a unui dataset care să aibă sens contextual.\n",
        "Setul de date este compus din 8 coloane: varsta, gen, ore petrecute in fata unui ecran, numarul de cafele consumate, timpul de sport facut (masurat in minute), nivelul de stres, ora de culcare si coloana finala - durata de somn, pe care vom aplica si regresia liniara. Acesta este calculata cu o formula intuitiva, de la 8 ore, scadem proportional cu nr de ore de ecran, nr de cafele, intarzierea orei de culcare, zgomotului, si creste cu practicarea sportului."
      ],
      "metadata": {
        "id": "-Dj_DVHTEILk"
      }
    },
    {
      "cell_type": "markdown",
      "source": [],
      "metadata": {
        "id": "A4LuBoY5HVjs"
      }
    },
    {
      "cell_type": "code",
      "source": [
        "import pandas as pd\n",
        "import numpy as np\n",
        "\n",
        "# Setare seed pentru consistență\n",
        "np.random.seed(42)\n",
        "\n",
        "# Număr total de exemple\n",
        "num_rows = 800\n",
        "\n",
        "# Variabile simulate\n",
        "varsta = np.random.randint(18, 60, size=num_rows)\n",
        "gen = np.random.choice(['M', 'F'], size=num_rows)\n",
        "ore_ecran = np.round(np.random.normal(5, 2, size=num_rows), 1)\n",
        "ore_ecran = np.clip(ore_ecran, 0, 12)\n",
        "\n",
        "cafea = np.random.poisson(1.5, size=num_rows)\n",
        "minute_sport = np.random.randint(0, 120, size=num_rows)\n",
        "nivel_stres = np.random.choice(['scazut', 'mediu', 'ridicat'], size=num_rows, p=[0.3, 0.5, 0.2])\n",
        "ora_culcare = np.round(np.random.normal(23, 1, size=num_rows), 1)\n",
        "ora_culcare = np.clip(ora_culcare, 21, 26) % 24  # convertit în format de oră [0-24]\n",
        "\n",
        "# Simulare logică a duratei somnului (variabila țintă)\n",
        "zgomot = np.random.normal(0, 0.5, size=num_rows)\n",
        "durata_somn = (\n",
        "    8\n",
        "    - 0.3 * ore_ecran\n",
        "    - 0.4 * cafea\n",
        "    + 0.01 * minute_sport\n",
        "    - 0.2 * (ora_culcare - 22)\n",
        "    - zgomot\n",
        ")\n",
        "durata_somn = np.round(np.clip(durata_somn, 3.5, 10), 1)\n",
        "\n",
        "# Simulăm lipsuri\n",
        "nivel_stres[np.random.choice(num_rows, 30, replace=False)] = None\n",
        "\n",
        "# Creăm DataFrame\n",
        "df = pd.DataFrame({\n",
        "    'varsta': varsta,\n",
        "    'gen': gen,\n",
        "    'ore_ecran': ore_ecran,\n",
        "    'cafea': cafea,\n",
        "    'minute_sport': minute_sport,\n",
        "    'nivel_stres': nivel_stres,\n",
        "    'ora_culcare': ora_culcare,\n",
        "    'durata_somn': durata_somn\n",
        "})\n",
        "\n",
        "# Salvăm într-un CSV complet\n",
        "df.to_csv(\"full_dataset.csv\", index=False)\n",
        "\n",
        "print(\"Setul de date a fost generat și salvat ca 'full_dataset.csv'.\")\n"
      ],
      "metadata": {
        "colab": {
          "base_uri": "https://localhost:8080/"
        },
        "id": "7cevw1u7FTbG",
        "outputId": "071a3ccd-6fb3-49fe-9281-42f6442c655a"
      },
      "execution_count": 4,
      "outputs": [
        {
          "output_type": "stream",
          "name": "stdout",
          "text": [
            "Setul de date a fost generat și salvat ca 'full_dataset.csv'.\n"
          ]
        }
      ]
    }
  ]
}