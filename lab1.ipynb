{
  "metadata": {
    "kernelspec": {
      "name": "python",
      "display_name": "Python (Pyodide)",
      "language": "python"
    },
    "language_info": {
      "codemirror_mode": {
        "name": "python",
        "version": 3
      },
      "file_extension": ".py",
      "mimetype": "text/x-python",
      "name": "python",
      "nbconvert_exporter": "python",
      "pygments_lexer": "ipython3",
      "version": "3.8"
    },
    "colab": {
      "provenance": [],
      "include_colab_link": true
    }
  },
  "nbformat_minor": 0,
  "nbformat": 4,
  "cells": [
    {
      "cell_type": "markdown",
      "metadata": {
        "id": "view-in-github",
        "colab_type": "text"
      },
      "source": [
        "<a href=\"https://colab.research.google.com/github/alexf05/pclp3/blob/main/lab1.ipynb\" target=\"_parent\"><img src=\"https://colab.research.google.com/assets/colab-badge.svg\" alt=\"Open In Colab\"/></a>"
      ]
    },
    {
      "cell_type": "markdown",
      "source": [
        "## PCLP3  Laboratorul 1 : Introducere în Python\n",
        "\n",
        "\n",
        "- Cătălin Chiru: <cata.chiru99@gmail.com>\n",
        "- Mihai Nan: <mihai.nan@upb.ro>\n"
      ],
      "metadata": {
        "id": "pAbOYrCmn1IX"
      }
    },
    {
      "cell_type": "markdown",
      "source": [
        "# <u> Variabile </u>"
      ],
      "metadata": {
        "id": "2ST1ePm_P5W3"
      }
    },
    {
      "cell_type": "code",
      "source": [
        "var = 5"
      ],
      "metadata": {
        "id": "VTQ-xN2RTcVm",
        "trusted": true
      },
      "outputs": [],
      "execution_count": null
    },
    {
      "cell_type": "markdown",
      "source": [
        "În cadrul modulelor de deep learning, o prima etapă a debuggingului în cazul erorilor din timpul rulării programului (`Runtime Errors`) o reprezintă printarea tipurilor de date curente și așteptate."
      ],
      "metadata": {
        "id": "tWf6MsD_XPT7"
      }
    },
    {
      "cell_type": "code",
      "source": [
        "type(var) # Intoarce tipul cel mai general care poate fi inferat din variabila"
      ],
      "metadata": {
        "colab": {
          "base_uri": "https://localhost:8080/"
        },
        "id": "cyQNGZyETnqA",
        "outputId": "f2fc0d8e-0b33-4551-bc26-ae9b4b81c821",
        "trusted": true
      },
      "outputs": [
        {
          "execution_count": 3,
          "output_type": "execute_result",
          "data": {
            "text/plain": "int"
          },
          "metadata": {}
        }
      ],
      "execution_count": null
    },
    {
      "cell_type": "markdown",
      "source": [
        "Pentru o mai buna vizibilitate, putem tipa variabilele:"
      ],
      "metadata": {
        "id": "wcQ-jE-rn1Id"
      }
    },
    {
      "cell_type": "code",
      "source": [
        "var : int = 5\n",
        "\n",
        "type(var)"
      ],
      "metadata": {
        "colab": {
          "base_uri": "https://localhost:8080/"
        },
        "id": "roG9KJv4TvzY",
        "outputId": "2517d68e-35d8-4e00-bed5-03bb7182441d",
        "trusted": true
      },
      "outputs": [
        {
          "execution_count": 4,
          "output_type": "execute_result",
          "data": {
            "text/plain": "int"
          },
          "metadata": {}
        }
      ],
      "execution_count": null
    },
    {
      "cell_type": "markdown",
      "source": [
        "Însă, python este suficient de permisiv și nu va produce erori dacă tipul variabilei nu concordă, căutând să convertească tipul variabilei la cel mai general tip care face matching cu toate elementele listei:"
      ],
      "metadata": {
        "id": "BgknsM-Rn1Ie"
      }
    },
    {
      "cell_type": "code",
      "source": [
        "var2 : int = \"abc\"\n",
        "\n",
        "type(var2)"
      ],
      "metadata": {
        "colab": {
          "base_uri": "https://localhost:8080/"
        },
        "id": "W0u6e6JuT5wd",
        "outputId": "e6a60f4c-d64f-4798-b339-511a7af0e8f0"
      },
      "outputs": [
        {
          "output_type": "execute_result",
          "data": {
            "text/plain": [
              "str"
            ]
          },
          "metadata": {},
          "execution_count": 4
        }
      ],
      "execution_count": null
    },
    {
      "cell_type": "markdown",
      "source": [
        "___\n",
        "**Observație:** Celulele unui Jupyter Notebook sunt executate de obicei într-o maniera top-down, iar datele calculate sau variabilele definite într-o celulă sunt păstrate local, în memoria notebook-ului și sunt disponibile în celulele ulterioare din cadrul aceluiași document.\n",
        "\n",
        "Acest comportament permite utilizatorilor să acceseze și să reutilizeze rezultatele sau variabilele definite anterior.\n",
        "\n",
        "Aveți mare grijă în momentul în care faceți debugging în celule inferioare celulei unde vă efectuați workflow-ul curent la efectele laterale pe care le produceți asupra variabilelor de interes.\n",
        "\n",
        "---"
      ],
      "metadata": {
        "id": "NdX-i1hFrqxw"
      }
    },
    {
      "cell_type": "code",
      "source": [
        "# Putem accesa variabila \"var\", care a fost definita mai sus\n",
        "var + 2"
      ],
      "metadata": {
        "colab": {
          "base_uri": "https://localhost:8080/"
        },
        "id": "C2PNT_88V9kN",
        "outputId": "f197a29a-12b8-4a09-927f-fd20d149601d",
        "trusted": true
      },
      "outputs": [
        {
          "execution_count": 11,
          "output_type": "execute_result",
          "data": {
            "text/plain": "7"
          },
          "metadata": {}
        }
      ],
      "execution_count": null
    },
    {
      "cell_type": "markdown",
      "source": [
        "# <u> Printare </u>"
      ],
      "metadata": {
        "id": "x3-EVVBCYObL"
      }
    },
    {
      "cell_type": "markdown",
      "source": [
        "După cum ați putut observa, în cadrul celulelor de Jupyter Notebook există o manieră implicită de a printa o variabilă sau rezultatul unei funcții, plasând-o la sfârșitul celulei, în afara unei definiții (similar comportamentului Matlab studiat la MN)\n",
        "\n",
        "O manieră explicită prin care putem printa, oriunde în interiorul celulei se realizează utilizând funcția \"print\" și modurile sale de formatare introduse o dată cu Python3.X"
      ],
      "metadata": {
        "id": "4eeTeK1dYReA"
      }
    },
    {
      "cell_type": "code",
      "source": [
        "print(\"Variabila de mai sus:\", var, \"printată de la începutul celulei\")\n",
        "\n",
        "nume = \"Mărie\"\n",
        "\n",
        "var_float = 0.0123\n",
        "\n",
        "print(\"Aceeași {}: valoarea {}\".format(nume, var_float))\n",
        "\n",
        "# f din fața stringului esete un macro pentru apelarea cu variabile in-place a funcției de formatare\n",
        "print(f\"Aceeași {nume}: valoarea {var_float}\")\n",
        "\n",
        "print(f\"Aceeași {nume} cu altă pălărie: valoarea {var_float:.2e}\")"
      ],
      "metadata": {
        "colab": {
          "base_uri": "https://localhost:8080/"
        },
        "id": "7Iy7eu03ZpIn",
        "outputId": "dcc90d5a-2199-48f0-f2b1-0cfdec21b3a7",
        "trusted": true
      },
      "outputs": [
        {
          "name": "stdout",
          "output_type": "stream",
          "text": "Variabila de mai sus: 5 printată de la începutul celulei\nAceeași Mărie: valoarea 0.0123\nAceeași Mărie: valoarea 0.0123\nAceeași Mărie cu altă pălărie: valoarea 1.23e-02\n"
        }
      ],
      "execution_count": null
    },
    {
      "cell_type": "markdown",
      "source": [
        "  Observăm că, prin folosirea indicației `{:2e}` am determinat printarea `var_float` în format stiințific, de tip  `mantisă`<mark>e</mark>`exponent`"
      ],
      "metadata": {
        "id": "aLibaDp8a_nj"
      }
    },
    {
      "cell_type": "markdown",
      "source": [
        "# <u> Liste </u>"
      ],
      "metadata": {
        "id": "vS3UJhV8n1Ic"
      }
    },
    {
      "cell_type": "markdown",
      "source": [
        "Echivalentul array-urilor din Java, sau a vectorilor din C++, sunt colecții de elemente.\n",
        "\n",
        "Datorita sintezei de tipuri din Python, listele pot conține elemente de tipuri diferite, spre deosebire de structurile echivalente din alte limbaje de programare.\n",
        "\n",
        "Totodată, în Python, string-urile sunt considerate liste de caractere și se pot folosi aceleași operații pe care urmează să le prezentăm + altele specifice string-urilor."
      ],
      "metadata": {
        "id": "MQAPf0qHn1Ic"
      }
    },
    {
      "cell_type": "code",
      "source": [
        "lista_polimorfica = [1, 'string', [1,2,4], None]"
      ],
      "metadata": {
        "id": "aJ9dfHI5n1Ic"
      },
      "outputs": [],
      "execution_count": null
    },
    {
      "cell_type": "code",
      "source": [
        "lista_int : list[int] = [1, 2, 3, 4, 5]"
      ],
      "metadata": {
        "id": "RCPYdqyNn1Id"
      },
      "outputs": [],
      "execution_count": null
    },
    {
      "cell_type": "code",
      "source": [
        "lista_polimorfica2: list[int] = [1, 'string', [1,2,4], None]"
      ],
      "metadata": {
        "id": "yzfGUQq6n1Ie"
      },
      "outputs": [],
      "execution_count": null
    },
    {
      "cell_type": "code",
      "source": [
        "type(lista_polimorfica2) # Aceeași discuție ca în cazul variabilelor"
      ],
      "metadata": {
        "colab": {
          "base_uri": "https://localhost:8080/"
        },
        "id": "sb3STkRan1Ie",
        "outputId": "c3bef120-fa84-424d-b7e8-2a1f97436f19"
      },
      "outputs": [
        {
          "data": {
            "text/plain": [
              "list"
            ]
          },
          "execution_count": 41,
          "metadata": {},
          "output_type": "execute_result"
        }
      ],
      "execution_count": null
    },
    {
      "cell_type": "markdown",
      "source": [
        "### <u> Indexare și slicing </u>"
      ],
      "metadata": {
        "id": "NIfwSqZmn1Ie"
      }
    },
    {
      "cell_type": "code",
      "source": [
        "lista_int"
      ],
      "metadata": {
        "colab": {
          "base_uri": "https://localhost:8080/"
        },
        "id": "OdLqi6HZn1Ie",
        "outputId": "1ab8e5c2-5e24-432c-8580-ef93b83595c5"
      },
      "outputs": [
        {
          "data": {
            "text/plain": [
              "[1, 2, 3, 4, 5]"
            ]
          },
          "execution_count": 42,
          "metadata": {},
          "output_type": "execute_result"
        }
      ],
      "execution_count": null
    },
    {
      "cell_type": "code",
      "source": [
        "# Listele sunt indexate de la 0\n",
        "\n",
        "lista_int[0]"
      ],
      "metadata": {
        "colab": {
          "base_uri": "https://localhost:8080/"
        },
        "id": "OEO1gV-Tn1If",
        "outputId": "40f174fc-202b-4b09-9a04-6d3e9dc46d67"
      },
      "outputs": [
        {
          "data": {
            "text/plain": [
              "1"
            ]
          },
          "execution_count": 43,
          "metadata": {},
          "output_type": "execute_result"
        }
      ],
      "execution_count": null
    },
    {
      "cell_type": "code",
      "source": [
        "# Putem folosi indecși negativi pentru a accesa elementele de la sfârșitul listei spre început\n",
        "\n",
        "lista_int[-1]"
      ],
      "metadata": {
        "colab": {
          "base_uri": "https://localhost:8080/"
        },
        "id": "JgEDyVOOn1If",
        "outputId": "fb8fe739-942f-4d86-e0c6-708dfcdc739e"
      },
      "outputs": [
        {
          "data": {
            "text/plain": [
              "5"
            ]
          },
          "execution_count": 44,
          "metadata": {},
          "output_type": "execute_result"
        }
      ],
      "execution_count": null
    },
    {
      "cell_type": "code",
      "source": [
        "# Sau putem folosi slice-uri pentru a accesa o porțiune din listă\n",
        "\n",
        "lista_int[1:4]"
      ],
      "metadata": {
        "colab": {
          "base_uri": "https://localhost:8080/"
        },
        "id": "YU-uIHPgn1If",
        "outputId": "c4ec8a83-8bda-45b1-df7f-d1bc99e668a9"
      },
      "outputs": [
        {
          "data": {
            "text/plain": [
              "[2, 3, 4]"
            ]
          },
          "execution_count": 45,
          "metadata": {},
          "output_type": "execute_result"
        }
      ],
      "execution_count": null
    },
    {
      "cell_type": "code",
      "source": [
        "exemplu_string = \"Ana are mere\"\n",
        "\n",
        "exemplu_string[0:3]"
      ],
      "metadata": {
        "colab": {
          "base_uri": "https://localhost:8080/",
          "height": 35
        },
        "id": "sw-0Fe1Jn1Ig",
        "outputId": "88a88818-e3d7-40cd-d78d-95158d7a16e0"
      },
      "outputs": [
        {
          "data": {
            "text/plain": [
              "'Ana'"
            ]
          },
          "execution_count": 46,
          "metadata": {},
          "output_type": "execute_result"
        }
      ],
      "execution_count": null
    },
    {
      "cell_type": "markdown",
      "source": [
        "### <u> Operații cu liste </u>"
      ],
      "metadata": {
        "id": "Vkk4bOzIn1Ig"
      }
    },
    {
      "cell_type": "markdown",
      "source": [
        "Operațiile de bază pe care le putem face cu liste sunt:\n",
        "* stabilirea numarului de elemente din lista - `len(lista)`\n",
        "* adăugarea unui element la finalul listei - `lista.append(element)`\n",
        "* adăugarea unui element la o anumită poziție - `lista.insert(index, element)`\n",
        "* ștergerea unui element de pe o anumită poziție - `lista.pop(index)`\n",
        "* ștergerea unui element cu o anumită valoare - `lista.remove(element)`\n",
        "* concatenarea a două liste - `lista1 + lista2`, sau `lista1.extend(lista2)`\n",
        "* repetarea unui pattern de elemente - `lista * n`\n",
        "\n",
        "Alte operații mai puțin uzuale, pot fi găsite în [Documentația Python pentru liste](https://docs.python.org/3/tutorial/datastructures.html)"
      ],
      "metadata": {
        "id": "403CpyTTn1Ig"
      }
    },
    {
      "cell_type": "code",
      "source": [
        "len(lista_int)"
      ],
      "metadata": {
        "colab": {
          "base_uri": "https://localhost:8080/"
        },
        "id": "K8JYBXPUeRjY",
        "outputId": "16fe607f-341b-42cb-9663-7ad6d16499aa"
      },
      "outputs": [
        {
          "data": {
            "text/plain": [
              "5"
            ]
          },
          "execution_count": 47,
          "metadata": {},
          "output_type": "execute_result"
        }
      ],
      "execution_count": null
    },
    {
      "cell_type": "code",
      "source": [
        "lista_int.append(6)\n",
        "\n",
        "lista_int"
      ],
      "metadata": {
        "colab": {
          "base_uri": "https://localhost:8080/"
        },
        "id": "ehX6UKnhn1Ih",
        "outputId": "5b3f091a-523f-4eb9-fee3-9891b09a1d54"
      },
      "outputs": [
        {
          "data": {
            "text/plain": [
              "[1, 2, 3, 4, 5, 6]"
            ]
          },
          "execution_count": 48,
          "metadata": {},
          "output_type": "execute_result"
        }
      ],
      "execution_count": null
    },
    {
      "cell_type": "markdown",
      "source": [
        "---\n",
        "**Observație**:\n",
        "\n",
        "Inserarea se face intr-o maniera OOP, asupra obiectului de la referința spre care pointează lista_int.\n",
        "\n",
        "O eroare comuna este provocata de sintaxa:\n",
        "\n",
        "<code>\n",
        "lista_int = lista_int.append(6) - in acest caz, lista_int va deveni None, deoarece lista_int.append(6) returneaza None\n",
        "</code>\n",
        "\n",
        "___\n"
      ],
      "metadata": {
        "id": "mGZrHVxjn1Ii"
      }
    },
    {
      "cell_type": "code",
      "source": [
        "lista_int.insert(2, -14)\n",
        "\n",
        "lista_int"
      ],
      "metadata": {
        "colab": {
          "base_uri": "https://localhost:8080/"
        },
        "id": "mNR81jhtn1Ii",
        "outputId": "33b7811f-0de8-4c18-971b-1780f67f8a73"
      },
      "outputs": [
        {
          "data": {
            "text/plain": [
              "[1, 2, -14, 3, 4, 5, 6]"
            ]
          },
          "execution_count": 49,
          "metadata": {},
          "output_type": "execute_result"
        }
      ],
      "execution_count": null
    },
    {
      "cell_type": "code",
      "source": [
        "lista_int.extend([7, 8, 9])\n",
        "\n",
        "lista_int"
      ],
      "metadata": {
        "colab": {
          "base_uri": "https://localhost:8080/"
        },
        "id": "3fDrbwv4n1Ii",
        "outputId": "04ec6af1-aea8-4127-c7e5-0c27c0d2bcc6"
      },
      "outputs": [
        {
          "data": {
            "text/plain": [
              "[1, 2, -14, 3, 4, 5, 6, 7, 8, 9]"
            ]
          },
          "execution_count": 50,
          "metadata": {},
          "output_type": "execute_result"
        }
      ],
      "execution_count": null
    },
    {
      "cell_type": "code",
      "source": [
        "lista_int =  lista_int + [10, 11, 12]\n",
        "lista_int += [13, 14, 15] # Mod echivalent de concatenare a listelor\n",
        "\n",
        "lista_int"
      ],
      "metadata": {
        "colab": {
          "base_uri": "https://localhost:8080/"
        },
        "id": "MVpFi0IIn1Ii",
        "outputId": "5d6fc680-b3b6-49ca-825e-386037a07bf7"
      },
      "outputs": [
        {
          "data": {
            "text/plain": [
              "[1, 2, -14, 3, 4, 5, 6, 7, 8, 9, 10, 11, 12, 13, 14, 15]"
            ]
          },
          "execution_count": 51,
          "metadata": {},
          "output_type": "execute_result"
        }
      ],
      "execution_count": null
    },
    {
      "cell_type": "code",
      "source": [
        "element_scos = lista_int.pop(2)\n",
        "\n",
        "element_scos, lista_int # Putem observa ca aceasta sintaxa printeaza la consola un tuplu"
      ],
      "metadata": {
        "colab": {
          "base_uri": "https://localhost:8080/"
        },
        "id": "LOMxeMbtn1Ii",
        "outputId": "299fc495-8b62-4155-f57a-80665e8e512a"
      },
      "outputs": [
        {
          "data": {
            "text/plain": [
              "(-14, [1, 2, 3, 4, 5, 6, 7, 8, 9, 10, 11, 12, 13, 14, 15])"
            ]
          },
          "execution_count": 52,
          "metadata": {},
          "output_type": "execute_result"
        }
      ],
      "execution_count": null
    },
    {
      "cell_type": "code",
      "source": [
        "lista_int.remove(7)\n",
        "\n",
        "lista_int"
      ],
      "metadata": {
        "colab": {
          "base_uri": "https://localhost:8080/"
        },
        "id": "_ZOUQV9An1Ij",
        "outputId": "14685c25-1958-44ba-cbf0-e8b2a549b44e"
      },
      "outputs": [
        {
          "data": {
            "text/plain": [
              "[1, 2, 3, 4, 5, 6, 8, 9, 10, 11, 12, 13, 14, 15]"
            ]
          },
          "execution_count": 53,
          "metadata": {},
          "output_type": "execute_result"
        }
      ],
      "execution_count": null
    },
    {
      "cell_type": "code",
      "source": [
        "exemplu_string += \".\" * 3\n",
        "\n",
        "exemplu_string"
      ],
      "metadata": {
        "colab": {
          "base_uri": "https://localhost:8080/",
          "height": 35
        },
        "id": "Cnc8vMSon1Ij",
        "outputId": "e56b1674-4f00-46e8-d2f5-079cc2e2ecd9"
      },
      "outputs": [
        {
          "data": {
            "text/plain": [
              "'Ana are mere...'"
            ]
          },
          "execution_count": 54,
          "metadata": {},
          "output_type": "execute_result"
        }
      ],
      "execution_count": null
    },
    {
      "cell_type": "code",
      "source": [
        "len(lista_int) # O dată cu schimbările asupra listei s-a modificat și lungimea"
      ],
      "metadata": {
        "colab": {
          "base_uri": "https://localhost:8080/"
        },
        "id": "FkT33E_boXE6",
        "outputId": "aceb6e6c-5bb8-475e-8800-3c3c38868e9f"
      },
      "outputs": [
        {
          "data": {
            "text/plain": [
              "14"
            ]
          },
          "execution_count": 55,
          "metadata": {},
          "output_type": "execute_result"
        }
      ],
      "execution_count": null
    },
    {
      "cell_type": "markdown",
      "source": [
        "### <u> Iterații prin liste </u>"
      ],
      "metadata": {
        "id": "5iYMXKeWn1Ik"
      }
    },
    {
      "cell_type": "markdown",
      "source": [
        "O altă metodă de a itera prin liste este folosind buclele `for` și `while`.\n",
        "\n",
        "Putem accesa elementele listei folosind indexul acestora, sau putem itera prin toate elementele, folosind instrucțiunea `for`."
      ],
      "metadata": {
        "id": "8ihgm7uJn1Ik"
      }
    },
    {
      "cell_type": "code",
      "source": [
        "# Iteram folosind un index de la 0, pana la lungimea listei\n",
        "for i in range(len(lista_int)):\n",
        "    print(lista_int[i])"
      ],
      "metadata": {
        "colab": {
          "base_uri": "https://localhost:8080/"
        },
        "id": "WPTMn3KGn1Ik",
        "outputId": "7290a6d4-2187-4e4b-b551-56ee1862b467"
      },
      "outputs": [
        {
          "name": "stdout",
          "output_type": "stream",
          "text": "1\n,2\n,3\n,4\n,5\n,6\n,8\n,9\n,10\n,11\n,12\n,13\n,14\n,15\n"
        }
      ],
      "execution_count": null
    },
    {
      "cell_type": "code",
      "source": [
        "i = 0\n",
        "max_len = len(lista_int)\n",
        "\n",
        "while i < max_len:\n",
        "  print(lista_int[i])\n",
        "\n",
        "  i += 1"
      ],
      "metadata": {
        "colab": {
          "base_uri": "https://localhost:8080/"
        },
        "id": "JAKK5vGKdOGZ",
        "outputId": "e529d5f3-621d-4dbb-afc5-b09a21ac200f"
      },
      "outputs": [
        {
          "name": "stdout",
          "output_type": "stream",
          "text": "1\n,2\n,3\n,4\n,5\n,6\n,8\n,9\n,10\n,11\n,12\n,13\n,14\n,15\n"
        }
      ],
      "execution_count": null
    },
    {
      "cell_type": "code",
      "source": [
        "for elem in lista_int:\n",
        "    print(elem)"
      ],
      "metadata": {
        "colab": {
          "base_uri": "https://localhost:8080/"
        },
        "id": "ty_GBxkAn1Il",
        "outputId": "e7ffd3fd-eb0c-43ef-a2d1-57a6e14d8886"
      },
      "outputs": [
        {
          "name": "stdout",
          "output_type": "stream",
          "text": "1\n,2\n,3\n,4\n,5\n,6\n,8\n,9\n,10\n,11\n,12\n,13\n,14\n,15\n"
        }
      ],
      "execution_count": null
    },
    {
      "cell_type": "code",
      "source": [
        "for idx, elem in enumerate(lista_int):\n",
        "    print(f\"Elementul de pe pozitia {idx} este {elem}\")"
      ],
      "metadata": {
        "colab": {
          "base_uri": "https://localhost:8080/"
        },
        "id": "hKn-k9-pn1Il",
        "outputId": "9d70a77f-74a2-49ab-de0f-435f7ad8373d"
      },
      "outputs": [
        {
          "name": "stdout",
          "output_type": "stream",
          "text": "Elementul de pe pozitia 0 este 1\n,Elementul de pe pozitia 1 este 2\n,Elementul de pe pozitia 2 este 3\n,Elementul de pe pozitia 3 este 4\n,Elementul de pe pozitia 4 este 5\n,Elementul de pe pozitia 5 este 6\n,Elementul de pe pozitia 6 este 8\n,Elementul de pe pozitia 7 este 9\n,Elementul de pe pozitia 8 este 10\n,Elementul de pe pozitia 9 este 11\n,Elementul de pe pozitia 10 este 12\n,Elementul de pe pozitia 11 este 13\n,Elementul de pe pozitia 12 este 14\n,Elementul de pe pozitia 13 este 15\n"
        }
      ],
      "execution_count": null
    },
    {
      "cell_type": "markdown",
      "source": [
        "În cazul în care vrem să folosim blocuri de instrucțiuni (for, while, if) imbricate, apartenența codului într-un anumit bloc se face prin nivelul indentării:"
      ],
      "metadata": {
        "id": "MAQB9KCaBK7b"
      }
    },
    {
      "cell_type": "code",
      "source": [
        "# Definim o matrice ca o listă de liste\n",
        "\n",
        "matrice = [[1,2,3], [4,5,6], [7,8,9], [10,11,12]]\n",
        "\n",
        "inaltime = len(matrice)\n",
        "latime = len(matrice[0])\n",
        "\n",
        "# Vrem sa printam multiplii de 3, patratul numerelor de forma 3k+1, si jumătatea întreagă a numerelor de forma 3k+2\n",
        "for i in range(inaltime):\n",
        "  # Se observa ca bucla j este în interiorul buclei for datorită indentării\n",
        "  for j in range(latime):\n",
        "    # Analog observam identarea instructiunilor if-else la acelasi nivel, in interiorul ambelor blocuri for\n",
        "    x = matrice[i][j]\n",
        "    if x % 3 == 0:\n",
        "      print(x, end=\" \")\n",
        "    elif x % 3 == 1: # Exista instructiunea elif\n",
        "      print(x**2, end=\" \")\n",
        "    else:\n",
        "      print(x//2, end=\" \")\n",
        "\n",
        "  # Observăm că acest print face parte doar din blocul exterior for\n",
        "  print()"
      ],
      "metadata": {
        "colab": {
          "base_uri": "https://localhost:8080/"
        },
        "id": "9_Rv7IijBjOI",
        "outputId": "d486d56b-5099-48e8-86e4-ec0b9c7b2ebe"
      },
      "outputs": [
        {
          "name": "stdout",
          "output_type": "stream",
          "text": "1 1 3 \n,16 2 6 \n,49 4 9 \n,100 5 12 \n"
        }
      ],
      "execution_count": null
    },
    {
      "cell_type": "markdown",
      "source": [
        "### <u> Operații cu stringuri </u>"
      ],
      "metadata": {
        "id": "SPpdkzKmLZG1"
      }
    },
    {
      "cell_type": "markdown",
      "source": [
        "Operațiile de bază pe care le putem efectua cu stringuri sunt:\n",
        "* conversia în ASCII a literelor - `ord(char)`\n",
        "* tokenizarea sirului pe baza unui caracter separator - `string.split(separator)`\n",
        "* reconstruirea textului pe baza tokenilor - `\"separator\".join(lista_tokeni)`\n",
        "* converirea case-ului stringului - `string.upper()`, `string.lower()`, `string.capitalize()`\n",
        "* găsirea unui subsir într-un string - `string.find(substring)`\n",
        "* alternativ, verificarea dacă un string conține un anumit subsir - `substring in string`\n",
        "* înlocuirea unui subsir cu altul - `string.replace(substring, new_substring)`\n",
        "* ștergerea spațierii de formatare (en. whitespaces) de la începutul și sfârșitul șirului - `string.strip()`\n",
        "* formatarea unui string - `string.format()` Prezentată anterior la formatarea printării :-)\n",
        "\n",
        "Alte operații mai puțin uzuale, pot fi găsite în [Documentația Python pentru stringuri](https://docs.python.org/3/library/string.html)\n",
        "\n",
        "O bibliotecă importantă în preprocesarea textelor pentru analiza limbajului natural (NLP) este reprezentată de \"re\", funcționalități disponibile prin re, sunt:\n",
        "* căutarea unui pattern într-un string - `re.search(pattern, string)`\n",
        "* găsirea tuturor aparițiilor unui pattern într-un string - `re.findall(pattern, string)`\n",
        "* înlocuirea unui pattern cu altul - `re.sub(pattern, new_pattern, string)`\n",
        "* tokenizarea unui string pe baza unui pattern - `re.split(pattern, string)`\n",
        "\n",
        "Avantajul utilizării bibliotecii \"re\" este reprezentat de posibilitatea identificării unor RegEx-uri, prin `pattern`.\n",
        "\n",
        "Un link foarte util pentru mai buna înțelegere a RegEx-urilor din re se găsește pe [W3schools](https://www.w3schools.com/python/python_regex.asp).\n",
        "\n",
        "O altă bibliotecă utilizată în preprocesare, mai ales pentru taskuri în limba română este reprezentată de `unidecode`, care are rolul de a substitui diacritele cu echivalentul lor din alfabetul latin care încape pe un octet."
      ],
      "metadata": {
        "id": "VP3vEyCnMSm0"
      }
    },
    {
      "cell_type": "markdown",
      "source": [
        "___\n",
        "**Observație:** Spre deosebire de metodele aplicate asupra listelor, metodele aplicate stringurilor nu execută modificări in-place, ci produc un nou string care are caracteristicile dorite\n",
        "\n",
        "---"
      ],
      "metadata": {
        "id": "0re4BO7n8W80"
      }
    },
    {
      "cell_type": "code",
      "source": [
        "ord('A')"
      ],
      "metadata": {
        "colab": {
          "base_uri": "https://localhost:8080/"
        },
        "id": "l63HkuEM6LHS",
        "outputId": "e616b4dd-7dde-4247-8512-56b750eb88e0"
      },
      "outputs": [
        {
          "data": {
            "text/plain": [
              "65"
            ]
          },
          "execution_count": 67,
          "metadata": {},
          "output_type": "execute_result"
        }
      ],
      "execution_count": null
    },
    {
      "cell_type": "code",
      "source": [
        "demo_text = \"Userii @Cata și @Mihai speră să vă bucurați de acest laborator :D\""
      ],
      "metadata": {
        "id": "qeITbdEcqnXL"
      },
      "outputs": [],
      "execution_count": null
    },
    {
      "cell_type": "code",
      "source": [
        "lista_cuvinte = demo_text.split(\" \")\n",
        "\n",
        "lista_cuvinte"
      ],
      "metadata": {
        "colab": {
          "base_uri": "https://localhost:8080/"
        },
        "id": "YGXn86iSrKD7",
        "outputId": "96c585d5-b44b-41d9-9336-ebcbad31b3b1"
      },
      "outputs": [
        {
          "data": {
            "text/plain": [
              "['Userii',\n",
              " '@Cata',\n",
              " 'și',\n",
              " '@Mihai',\n",
              " 'speră',\n",
              " 'să',\n",
              " 'vă',\n",
              " 'bucurați',\n",
              " 'de',\n",
              " 'acest',\n",
              " 'laborator',\n",
              " ':D']"
            ]
          },
          "execution_count": 69,
          "metadata": {},
          "output_type": "execute_result"
        }
      ],
      "execution_count": null
    },
    {
      "cell_type": "code",
      "source": [
        "textul_reconstruit = \" \".join(lista_cuvinte)\n",
        "\n",
        "textul_reconstruit"
      ],
      "metadata": {
        "colab": {
          "base_uri": "https://localhost:8080/",
          "height": 35
        },
        "id": "VYivgUFhsFvt",
        "outputId": "c43724e8-4cce-4292-cc2f-d46c528b8366"
      },
      "outputs": [
        {
          "data": {
            "text/plain": [
              "'Userii @Cata și @Mihai speră să vă bucurați de acest laborator :D'"
            ]
          },
          "execution_count": 70,
          "metadata": {},
          "output_type": "execute_result"
        }
      ],
      "execution_count": null
    },
    {
      "cell_type": "code",
      "source": [
        "print(demo_text.lower())\n",
        "print(demo_text.upper())\n",
        "print(demo_text.lower().capitalize())"
      ],
      "metadata": {
        "colab": {
          "base_uri": "https://localhost:8080/"
        },
        "id": "ofO1B7Zks6hg",
        "outputId": "7e4101c9-0f78-48da-8985-e9e2f9e0c08d"
      },
      "outputs": [
        {
          "name": "stdout",
          "output_type": "stream",
          "text": "userii @cata și @mihai speră să vă bucurați de acest laborator :d\n,USERII @CATA ȘI @MIHAI SPERĂ SĂ VĂ BUCURAȚI DE ACEST LABORATOR :D\n,Userii @cata și @mihai speră să vă bucurați de acest laborator :d\n"
        }
      ],
      "execution_count": null
    },
    {
      "cell_type": "code",
      "source": [
        "print(f\"Rezultatele cautarii unui substring existent in text:\", \"@Cata\" in demo_text, \"și indexul la care se găsește:\", demo_text.find(\"@Cata\"), \"(re: {})\".format(re.search(\"@Cata\", demo_text)))\n",
        "print(f\"Rezultatele cautarii unui substring inexistent in text:\", \"@Catalin\" in demo_text, \"și indexul la care se găsește:\", demo_text.find(\"@Catalin\"), \"(re: {})\".format(re.search(\"@Catalin\", demo_text)))"
      ],
      "metadata": {
        "colab": {
          "base_uri": "https://localhost:8080/"
        },
        "id": "dYOfaZJkt_C9",
        "outputId": "6ad662f3-005d-40c4-b429-8e351cf169a7"
      },
      "outputs": [
        {
          "name": "stdout",
          "output_type": "stream",
          "text": "Rezultatele cautarii unui substring existent in text: True și indexul la care se găsește: 7 (re: <re.Match object; span=(7, 12), match='@Cata'>)\n,Rezultatele cautarii unui substring inexistent in text: False și indexul la care se găsește: -1 (re: None)\n"
        }
      ],
      "execution_count": null
    },
    {
      "cell_type": "code",
      "source": [
        "print(demo_text.replace(\"laborator\", \"material\"))\n",
        "\n",
        "print(demo_text) # Deși am făcut replace anterior, demo_text rămâne nemodificat\n",
        "                 # așa cum am precizat și în observația de mai sus"
      ],
      "metadata": {
        "colab": {
          "base_uri": "https://localhost:8080/"
        },
        "id": "xpdAZ_3s751s",
        "outputId": "99fd6ac0-2753-4225-ed63-eb9f4c93ab49"
      },
      "outputs": [
        {
          "name": "stdout",
          "output_type": "stream",
          "text": "Userii @Cata și @Mihai speră să vă bucurați de acest material :D\n,Userii @Cata și @Mihai speră să vă bucurați de acest laborator :D\n"
        }
      ],
      "execution_count": null
    },
    {
      "cell_type": "code",
      "source": [
        "textul_reconstruit = \" \" + textul_reconstruit + \" \"\n",
        "\n",
        "print(textul_reconstruit)\n",
        "print(textul_reconstruit.strip())"
      ],
      "metadata": {
        "colab": {
          "base_uri": "https://localhost:8080/"
        },
        "id": "umJ2pFzXuK8E",
        "outputId": "81df2194-8cad-46f8-8607-1d50897b1a0b"
      },
      "outputs": [
        {
          "name": "stdout",
          "output_type": "stream",
          "text": " Userii @Cata și @Mihai speră să vă bucurați de acest laborator :D \n,Userii @Cata și @Mihai speră să vă bucurați de acest laborator :D\n"
        }
      ],
      "execution_count": null
    },
    {
      "cell_type": "code",
      "source": [
        "# RegEx care indică eliminarea @ și păstrarea numelor\n",
        "demo_text_fara_useri = re.sub(r'@(\\w+)', r'\\1', demo_text)\n",
        "\n",
        "demo_text_fara_useri"
      ],
      "metadata": {
        "colab": {
          "base_uri": "https://localhost:8080/",
          "height": 35
        },
        "id": "yC4eMjd49sAE",
        "outputId": "262e5405-ee23-4b01-830c-35e480e49b63"
      },
      "outputs": [
        {
          "data": {
            "text/plain": [
              "'Userii Cata și Mihai speră să vă bucurați de acest laborator :D'"
            ]
          },
          "execution_count": 75,
          "metadata": {},
          "output_type": "execute_result"
        }
      ],
      "execution_count": null
    },
    {
      "cell_type": "code",
      "source": [
        "# RegEx care indică eliminarea @user complet\n",
        "demo_text_fara_useri2 = re.sub(r'@(\\w+)', '', demo_text)\n",
        "\n",
        "demo_text_fara_useri2"
      ],
      "metadata": {
        "colab": {
          "base_uri": "https://localhost:8080/",
          "height": 35
        },
        "id": "i7GGr4mw-FSF",
        "outputId": "c571da56-af59-4b30-a891-652dba420d66"
      },
      "outputs": [
        {
          "data": {
            "text/plain": [
              "'Userii  și  speră să vă bucurați de acest laborator :D'"
            ]
          },
          "execution_count": 76,
          "metadata": {},
          "output_type": "execute_result"
        }
      ],
      "execution_count": null
    },
    {
      "cell_type": "markdown",
      "source": [
        "> Importanța unor astfel de procesări poate consta în anonimizarea persoanelor dintr-un dataset de tweeturi, spre exemplu."
      ],
      "metadata": {
        "id": "sn_dON24-XJW"
      }
    },
    {
      "cell_type": "code",
      "source": [
        "unidecode(demo_text)"
      ],
      "metadata": {
        "colab": {
          "base_uri": "https://localhost:8080/",
          "height": 35
        },
        "id": "nWpybafG7ToG",
        "outputId": "672e0045-3243-455f-f88f-fc5cf3387c2d"
      },
      "outputs": [
        {
          "data": {
            "text/plain": [
              "'Userii @Cata si @Mihai spera sa va bucurati de acest laborator :D'"
            ]
          },
          "execution_count": 77,
          "metadata": {},
          "output_type": "execute_result"
        }
      ],
      "execution_count": null
    },
    {
      "cell_type": "markdown",
      "source": [
        "# <u> Funcții </u>"
      ],
      "metadata": {
        "id": "8LJ-DT_QyIgG"
      }
    },
    {
      "cell_type": "markdown",
      "source": [
        "În Python, în afara variabilelor de bază care sunt transmise prin valoare, toate celelalte sunt transmise prin referință.\n",
        "\n",
        "Așadar, modificările aduse obiectelor din funcții se propagă ca efecte laterale în afara funcției."
      ],
      "metadata": {
        "id": "L0qLO6pCzBf-"
      }
    },
    {
      "cell_type": "code",
      "source": [
        "lista_int = list(range(1, 16))"
      ],
      "metadata": {
        "id": "v1R8luWYzEiU"
      },
      "outputs": [],
      "execution_count": null
    },
    {
      "cell_type": "code",
      "source": [
        "def demo_lateral_tipat(lista : list, elem : int) -> int:\n",
        "  lista.insert(0, elem)\n",
        "\n",
        "  return 2*elem\n",
        "\n",
        "def demo_lateral(lista, elem):\n",
        "  lista.insert(0, elem)\n",
        "\n",
        "  return 2*elem\n",
        "\n",
        "output = demo_lateral_tipat(lista_int, 30)\n",
        "\n",
        "output, lista_int"
      ],
      "metadata": {
        "colab": {
          "base_uri": "https://localhost:8080/"
        },
        "id": "FfkzaLeZzChL",
        "outputId": "c348a7be-dff1-418a-8664-4e0a2fee0695"
      },
      "outputs": [
        {
          "output_type": "execute_result",
          "data": {
            "text/plain": [
              "(60, [30, 1, 2, 3, 4, 5, 6, 7, 8, 9, 10, 11, 12, 13, 14, 15])"
            ]
          },
          "metadata": {},
          "execution_count": 7
        }
      ],
      "execution_count": null
    },
    {
      "cell_type": "markdown",
      "source": [
        "Putem observa sintaxa unei funcții:\n",
        "* Antetul pornește cu keyword-ul `def`\n",
        "* Precum în celelalte blocuri de control, creștem identarea cu un tab pentru a semnala apartenența la blocul funcției\n",
        "* Tipul returnat de funcție este identificat de `-> tip`\n",
        "* Secvența de cod din funcție se poate termina cu return"
      ],
      "metadata": {
        "id": "Vm91nSomz4wD"
      }
    },
    {
      "cell_type": "markdown",
      "source": [
        "Această ultimă observație nu este obligatorie în general. Putem scrie funcții care nu returnează nimic per se, ci se bazează exclusiv pe efect lateral:"
      ],
      "metadata": {
        "id": "RavtmbQN0wsg"
      }
    },
    {
      "cell_type": "code",
      "source": [
        "def demo_no_return(lista : list):\n",
        "  lista.append(47)\n",
        "\n",
        "# Echivalent, putem scrie și:\n",
        "def demo_no_return(lista : list):\n",
        "  lista.append(47)\n",
        "  return\n",
        "\n",
        "demo_no_return(lista_int)\n",
        "\n",
        "lista_int"
      ],
      "metadata": {
        "colab": {
          "base_uri": "https://localhost:8080/"
        },
        "id": "BVV9zQm91BfV",
        "outputId": "697853ef-1a90-4a18-a6da-26f0ecaf5d52"
      },
      "outputs": [
        {
          "output_type": "execute_result",
          "data": {
            "text/plain": [
              "[30, 1, 2, 3, 4, 5, 6, 7, 8, 9, 10, 11, 12, 13, 14, 15, 47]"
            ]
          },
          "metadata": {},
          "execution_count": 6
        }
      ],
      "execution_count": null
    },
    {
      "cell_type": "markdown",
      "source": [
        "Dacă executăm:"
      ],
      "metadata": {
        "id": "PVgBNtFQ157G"
      }
    },
    {
      "cell_type": "code",
      "source": [
        "output = demo_no_return(lista_int)\n",
        "\n",
        "output, output == None"
      ],
      "metadata": {
        "id": "qa6dpcmA2ByV"
      },
      "outputs": [],
      "execution_count": null
    },
    {
      "cell_type": "markdown",
      "source": [
        "Ne dăm seama acum ce se petrece atunci când scriem lista = lista.append(element).\n",
        "\n",
        "Append este o metoda a clasei List ce realizeaza modificarile asupra obiectului curent prin efect lateral și nu returnează nimic."
      ],
      "metadata": {
        "id": "2LCKbw7a2PIE"
      }
    },
    {
      "cell_type": "markdown",
      "source": [
        "**[Good practice]** În general se preferă un coding style în care funcțiile să fie definite fără cod executabil sau doar cu unit teste ce îi vizează comportamentul, și de obicei se definesc helperele și funcția mare în aceeași celulă"
      ],
      "metadata": {
        "id": "SwtUTVOo1cbV"
      }
    },
    {
      "cell_type": "markdown",
      "source": [
        "Un Bad practice utilizat frecvent în Notebook-uri este reprezentat de utilizarea variabilelor neoferite ca parametru:"
      ],
      "metadata": {
        "id": "zws-NkF44_M4"
      }
    },
    {
      "cell_type": "code",
      "source": [
        "def demo_bad_practice(elem : int) -> int:\n",
        "  return 2*elem + var\n",
        "\n",
        "demo_bad_practice(3)"
      ],
      "metadata": {
        "colab": {
          "base_uri": "https://localhost:8080/"
        },
        "id": "QVtAKetw5OnM",
        "outputId": "ee19a20e-28f9-4da0-9d07-dc499bbe8eb9"
      },
      "outputs": [
        {
          "output_type": "execute_result",
          "data": {
            "text/plain": [
              "11"
            ]
          },
          "metadata": {},
          "execution_count": 15
        }
      ],
      "execution_count": null
    },
    {
      "cell_type": "markdown",
      "source": [
        "Funcția are acces la contextul notebook-ului și deși var nu este definit în interiorul său, îl găsește pe cel executat anterior în secțiunea de variabile: `var : int = 5` și îl folosește pe acela.\n",
        "\n",
        "Deși este foarte la îndemână acest tip de a scrie funcții, încercați să oferiți tot ce aveți nevoie ca parametru, sau să creați clase cu atribute.\n",
        "\n",
        "Acest coding style ascunde foarte bine erori și vă forțează să aveți o mai mare precauție când rulați celule de mai sus decât nivelul curent al workflow-ului."
      ],
      "metadata": {
        "id": "zZT2nG0-5qwM"
      }
    },
    {
      "cell_type": "markdown",
      "source": [
        "___\n",
        "Dacă dorim să returnăm mai multe valori produse în interiorul funcției, putem folosi următoarea sintaxă:\n",
        "\n"
      ],
      "metadata": {
        "id": "qFjA4rA32vso"
      }
    },
    {
      "cell_type": "code",
      "source": [
        "def demo_multivals(lista):\n",
        "  return len(lista), min(lista), max(lista)\n",
        "\n",
        "# Prin pattern matching, fiecarei variabile ii este atribuita o valoare din cele returnate de functie\n",
        "lungime, minim, maxim = demo_multivals(lista_int)\n",
        "\n",
        "lungime, minim, maxim"
      ],
      "metadata": {
        "colab": {
          "base_uri": "https://localhost:8080/"
        },
        "id": "_VnmvTNh3Cnw",
        "outputId": "6ad4069b-02c9-4e43-a227-9bf70c1ced6f"
      },
      "outputs": [
        {
          "output_type": "execute_result",
          "data": {
            "text/plain": [
              "(18, 1, 47)"
            ]
          },
          "metadata": {},
          "execution_count": 10
        }
      ],
      "execution_count": null
    },
    {
      "cell_type": "code",
      "source": [
        "#Alternativ putem scrie și\n",
        "valori = demo_multivals(lista_int)\n",
        "\n",
        "#Și să accesăm elementele din tuplul valori\n",
        "valori[0], valori[1], valori[2]"
      ],
      "metadata": {
        "colab": {
          "base_uri": "https://localhost:8080/"
        },
        "id": "kzPXMwtF3lwN",
        "outputId": "f0c6bf46-20d1-437f-ce9f-9070521a7df3"
      },
      "outputs": [
        {
          "output_type": "execute_result",
          "data": {
            "text/plain": [
              "(18, 1, 47)"
            ]
          },
          "metadata": {},
          "execution_count": 11
        }
      ],
      "execution_count": null
    },
    {
      "cell_type": "markdown",
      "source": [
        "Returnarea de valori multiple se realizează prin crearea unui tuplu."
      ],
      "metadata": {
        "id": "JulctiWN4FT6"
      }
    },
    {
      "cell_type": "markdown",
      "source": [
        "În limbajul de programare Python, putem defini o funcție care să primească un număr variabil de argumente folosind asteriscul (*) în definiția funcției. În acest caz, argumentele sunt percepute drept un tuplu (care poate avea număr variabil de elemente).\n",
        "\n",
        "Iată un exemplu simplu:"
      ],
      "metadata": {
        "id": "QTRrS-pud_KF"
      }
    },
    {
      "cell_type": "code",
      "source": [
        "def functie_cu_numar_variabil_de_argumente(*args):\n",
        "    for arg in args:\n",
        "        print(arg)\n",
        "\n",
        "# Exemplu de utilizare\n",
        "functie_cu_numar_variabil_de_argumente(1, 2, 3, 'a', 'b')\n",
        "\n",
        "# Exemplu de apel\n",
        "lista_argumente = [True, \"ana\", [1, 2, 3], 1, 'a']\n",
        "functie_cu_numar_variabil_de_argumente(*lista_argumente)"
      ],
      "metadata": {
        "colab": {
          "base_uri": "https://localhost:8080/"
        },
        "id": "U4F8mFPIeG1M",
        "outputId": "dd51478c-c5c6-4707-a3b3-3ec4469a4fe5"
      },
      "outputs": [
        {
          "output_type": "stream",
          "name": "stdout",
          "text": "1\n,2\n,3\n,a\n,b\n,True\n,ana\n,[1, 2, 3]\n,1\n,a\n"
        }
      ],
      "execution_count": null
    },
    {
      "cell_type": "markdown",
      "source": [
        "Funcțiile în Python pot avea argumente cu valori implicite, ceea ce înseamnă că aceste argumente primesc o valoare implicită, furnizată atunci când este definită funcția, ce este folosită în cazul în care nu este furnizată o altă valoare în momentul apelului funcției. Acest lucru adaugă flexibilitate și oferă posibilitatea apelării funcției cu un număr mai mic de argumente decât numărul total de parametri."
      ],
      "metadata": {
        "id": "x-rDxb3eemtf"
      }
    },
    {
      "cell_type": "code",
      "source": [
        "def suma(x=0, y=1, z=2):\n",
        "  return x + y + z\n",
        "\n",
        "print(suma())\n",
        "print(suma(4))\n",
        "print(suma(4,5))\n",
        "print(suma(4,5,6))"
      ],
      "metadata": {
        "colab": {
          "base_uri": "https://localhost:8080/"
        },
        "id": "WJppnpz1fCod",
        "outputId": "7ec14e85-e4d5-46e5-8df9-f8d457cb2e75"
      },
      "outputs": [
        {
          "output_type": "stream",
          "name": "stdout",
          "text": "3\n,7\n,11\n,15\n"
        }
      ],
      "execution_count": null
    },
    {
      "cell_type": "markdown",
      "source": [
        "În Python, putem utiliza cuvinte cheie (keywords) pentru a furniza argumente la apelul funcțiilor. Aceasta permite specificarea valorilor pentru parametri prin numele acestora, fără a depinde strict de ordinea în care aceștia sunt definiți în funcție."
      ],
      "metadata": {
        "id": "BHLkqqPwfRIl"
      }
    },
    {
      "cell_type": "code",
      "source": [
        "def my_function(child3, child2, child1):\n",
        "  print(\"The youngest child is \" + child3)\n",
        "\n",
        "my_function(child1 = \"Emil\",\n",
        "            child2 = \"Alex\",\n",
        "            child3 = \"Andrei\")\n",
        "\n",
        "def my_function(**kid):\n",
        "  print(\"His last name is \" + kid[\"lname\"])\n",
        "\n",
        "my_function(fname = \"Andrei\", lname = \"Popescu\")"
      ],
      "metadata": {
        "colab": {
          "base_uri": "https://localhost:8080/"
        },
        "id": "JtGv7jxufTEA",
        "outputId": "1ce51e5b-1958-4b44-e572-e4b6d41a2689"
      },
      "outputs": [
        {
          "output_type": "stream",
          "name": "stdout",
          "text": "The youngest child is Andrei\n,His last name is Popescu\n"
        }
      ],
      "execution_count": null
    },
    {
      "cell_type": "markdown",
      "source": [
        "# Exerciții propuse"
      ],
      "metadata": {
        "id": "fl54N4M0mt53"
      }
    },
    {
      "cell_type": "markdown",
      "source": [
        "1. Implementați o funcție care primește ca parametru un număr natural $n$ și determină suma cifrelor numărului $n$.\n",
        "\n",
        "**Important:** Trebuie să vă gândiți la diferența dintre ```123 / 10``` și ```123 // 10```"
      ],
      "metadata": {
        "id": "4b_NORhFBrMs"
      }
    },
    {
      "cell_type": "code",
      "source": [
        "def suma_cifre(n):\n",
        "  # TODO 1\n",
        "    s = 0\n",
        "    while n:\n",
        "        c = n %10\n",
        "        s += c\n",
        "        n = n//10\n",
        "    return s\n",
        "\n",
        "print(suma_cifre(123)) # => 6\n",
        "print(suma_cifre(2222)) # => 8\n",
        "print(suma_cifre(32145)) # => 15"
      ],
      "metadata": {
        "colab": {
          "base_uri": "https://localhost:8080/"
        },
        "id": "utDllqepBzGu",
        "outputId": "856d2c7e-304f-4b4a-bdf9-4b04cb93e0af",
        "trusted": true
      },
      "outputs": [
        {
          "name": "stdout",
          "output_type": "stream",
          "text": "6\n8\n15\n"
        }
      ],
      "execution_count": null
    },
    {
      "cell_type": "markdown",
      "source": [
        "2. Implementați o funcție care primește ca parametru un număr natural $n$ și determină cea mai mare cifră pe care o are $n$."
      ],
      "metadata": {
        "id": "8zpjbjT3ClsB"
      }
    },
    {
      "cell_type": "code",
      "source": [
        "def cifra_maxima(n):\n",
        "  # TODO 2\n",
        "    c = -1\n",
        "    while n:\n",
        "        if n%10 > c:\n",
        "            c = n%10\n",
        "        n //=10\n",
        "    return c\n",
        "\n",
        "print(cifra_maxima(1234567)) # => 7\n",
        "print(cifra_maxima(123984)) # => 9\n",
        "print(cifra_maxima(2222)) # => 2\n",
        "print(cifra_maxima(1)) # => 1"
      ],
      "metadata": {
        "colab": {
          "base_uri": "https://localhost:8080/"
        },
        "id": "xIdXi9MnCscE",
        "outputId": "5008d393-60af-4dd7-eb8d-e45c878ce425",
        "trusted": true
      },
      "outputs": [
        {
          "name": "stdout",
          "output_type": "stream",
          "text": "7\n9\n2\n1\n"
        }
      ],
      "execution_count": null
    },
    {
      "cell_type": "markdown",
      "source": [
        "3. Implementați o funcție care primește ca parametru un șir de caractere $s$ (care conține doar litere mici și spații) și determină numărul de vocale din acest șir."
      ],
      "metadata": {
        "id": "ezOD8hIaDVz9"
      }
    },
    {
      "cell_type": "code",
      "source": [
        "def numar_vocale(s):\n",
        "  # TODO 3\n",
        "    nr = 0\n",
        "    for i in s:\n",
        "        if i in \"aeiou\":\n",
        "            nr+=1\n",
        "    return nr\n",
        "\n",
        "print(numar_vocale(\"ana are mere\")) # => 6\n",
        "print(numar_vocale(\"programarea este fun\")) # => 8\n",
        "print(numar_vocale(\"twyndyllyngs\")) # => 0"
      ],
      "metadata": {
        "colab": {
          "base_uri": "https://localhost:8080/"
        },
        "id": "80B5VbNdDize",
        "outputId": "143377e9-1aba-430c-bc41-c90e6a20ee96",
        "trusted": true
      },
      "outputs": [
        {
          "name": "stdout",
          "output_type": "stream",
          "text": "6\n8\n0\n"
        }
      ],
      "execution_count": null
    },
    {
      "cell_type": "markdown",
      "source": [
        "4. Implementați o funcție care primește ca parametru un șir de caractere, ce reprezintă o propoziție formată din cuvinte separate prin spațiu, și transformă prima literă din fiecare cuvant în literă mare."
      ],
      "metadata": {
        "id": "5xud7giGESqC"
      }
    },
    {
      "cell_type": "code",
      "source": [
        "def transforma_cuvinte(s):\n",
        "    words = s.split()\n",
        "    rez = ''\n",
        "    for i in range(len(words)):\n",
        "        words[i] = words[i].capitalize()\n",
        "        rez += words[i]\n",
        "        rez += ' '\n",
        "    return rez\n",
        "\n",
        "print(transforma_cuvinte(\"Ana are mere\"))\n",
        "print(transforma_cuvinte(\"programarea calculatoarelor si limbaje de programare trei\"))"
      ],
      "metadata": {
        "colab": {
          "base_uri": "https://localhost:8080/"
        },
        "id": "S87H_nqbEgB9",
        "outputId": "88b94c6e-1807-465e-d024-2cdf10c44e9e",
        "trusted": true
      },
      "outputs": [
        {
          "name": "stdout",
          "output_type": "stream",
          "text": "Ana Are Mere \nProgramarea Calculatoarelor Si Limbaje De Programare Trei \n"
        }
      ],
      "execution_count": null
    },
    {
      "cell_type": "markdown",
      "source": [
        "5. Implementați o funcție numită ```concatenare_cuvinte``` care primește un număr variabil de cuvinte și returnează un șir de caractere format prin concatenarea acestora, separate printr-un spațiu. Funcția ar trebui să ignore eventualele argumente care nu sunt cuvinte (de exemplu, numere sau alte tipuri de obiecte) și să le excludă din șirul final."
      ],
      "metadata": {
        "id": "2rq6PIQ5E7aj"
      }
    },
    {
      "cell_type": "code",
      "source": [
        "def concatenare_cuvinte(*args):\n",
        "    rez = ''\n",
        "    for i in args:\n",
        "        if isinstance(i, str):\n",
        "            rez += i\n",
        "            rez += ' '\n",
        "    return rez\n",
        "\n",
        "print(concatenare_cuvinte(\"ana\", \"are\", 2, \"mere\"))\n",
        "print(concatenare_cuvinte(\"programarea\", \"calculatoarelor\", \"si\", \"limbaje\", \"de\", \"programare\", 3))"
      ],
      "metadata": {
        "colab": {
          "base_uri": "https://localhost:8080/"
        },
        "id": "tsgPbBKOFVg1",
        "outputId": "f890aff6-d9f6-4b39-c028-f12ce887e585",
        "trusted": true
      },
      "outputs": [
        {
          "name": "stdout",
          "output_type": "stream",
          "text": "ana are mere \nprogramarea calculatoarelor si limbaje de programare \n"
        }
      ],
      "execution_count": null
    },
    {
      "cell_type": "markdown",
      "source": [
        "6. Implementați o funcție care primește trei parametri - ```start```, ```stop``` și ```pas```, și afișează toate numerele aflate într-o progresie aritmetică începând de la ```start``` până la ```stop```, cu un ```pas``` dat. Trebuie să vă asigurați că puteți apela funcția fără a folosi o valoare explicită pentru ```pas``` și atunci vom folosi valoarea $2$.\n",
        "\n"
      ],
      "metadata": {
        "id": "mldwIS75t1l8"
      }
    },
    {
      "cell_type": "code",
      "source": [
        "def afisare_progresie_aritmetica(start, stop, pas = 2):\n",
        "  for i in range(start, stop, pas):\n",
        "    print(i, end = ' ')\n",
        "  print()\n",
        "\n",
        "afisare_progresie_aritmetica(1, 50, 5)\n",
        "afisare_progresie_aritmetica(-5, 25)"
      ],
      "metadata": {
        "id": "W_t4vpyCuD3A",
        "trusted": true,
        "colab": {
          "base_uri": "https://localhost:8080/"
        },
        "outputId": "9645c166-8ef8-4602-a13b-8d1fbf022b39"
      },
      "outputs": [
        {
          "output_type": "stream",
          "name": "stdout",
          "text": [
            "1 6 11 16 21 26 31 36 41 46 \n",
            "-5 -3 -1 1 3 5 7 9 11 13 15 17 19 21 23 \n"
          ]
        }
      ],
      "execution_count": null
    },
    {
      "cell_type": "markdown",
      "source": [
        "7. Se citește de la tastatură un număr natural $n$ și apoi alte $n$ numere întregi. Se cere să se afișeze numărul de numere prime și care sunt aceste numere. Stabiliți dacă aveți nevoie de implementarea unor funcții auxiliare."
      ],
      "metadata": {
        "id": "ccj2EjG1u7og"
      }
    },
    {
      "cell_type": "code",
      "source": [
        "def is_prime(n):\n",
        "    for i in range(2, n//2 + 1):\n",
        "        if (n % i) == 0:\n",
        "            return False\n",
        "    return True\n",
        "n = int(input(\"introduceti n\"))\n",
        "nr = 0\n",
        "lista = []\n",
        "for i in range(n):\n",
        "    x = int(input())\n",
        "    if is_prime(x):\n",
        "      nr +=1\n",
        "      lista.append(x)\n",
        "print(nr)\n",
        "print(lista)"
      ],
      "metadata": {
        "id": "5xp8-jdbu_LG",
        "trusted": true,
        "colab": {
          "base_uri": "https://localhost:8080/"
        },
        "outputId": "3dba9e1a-e662-4fe6-ee5a-8fce0830cbcf"
      },
      "outputs": [
        {
          "output_type": "stream",
          "name": "stdout",
          "text": [
            "introduceti n3\n",
            "5\n",
            "7\n",
            "9\n",
            "2\n",
            "[5, 7]\n"
          ]
        }
      ],
      "execution_count": null
    },
    {
      "cell_type": "markdown",
      "source": [
        "8. Se citesc de la tastatură două numere naturale nenule. Verificați dacă aceste numere citite sunt sau nu prime între ele (adică dacă îl au pe $1$ drept cel mai mare divizor comun)."
      ],
      "metadata": {
        "id": "dz2NsN69u9u7"
      }
    },
    {
      "cell_type": "code",
      "source": [
        "def cmmdc(n,m):\n",
        "  while n != m:\n",
        "        if n > m:\n",
        "            n -= m\n",
        "        else:\n",
        "            m -= n\n",
        "  return n\n",
        "a = int(input())\n",
        "b = int(input())\n",
        "if cmmdc(a,b) == 1:\n",
        "  print(\"DA\")\n",
        "else:\n",
        "  print(\"NU\")"
      ],
      "metadata": {
        "id": "XcvFp2vHvbYB",
        "colab": {
          "base_uri": "https://localhost:8080/"
        },
        "outputId": "d0137513-6e78-4371-865b-7b93bd59f2e3"
      },
      "outputs": [
        {
          "output_type": "stream",
          "name": "stdout",
          "text": [
            "13\n",
            "15\n",
            "DA\n"
          ]
        }
      ],
      "execution_count": null
    },
    {
      "cell_type": "markdown",
      "source": [
        "9. Citim un număr natural $n$ de la tastatură. Dorim să afișăm toate numerele mai mici decât $n$ care sunt prime cu $n$.\n",
        "\n",
        "**Exemplu:** Pentru $n = 12$ vom afișa $1$ $5$ $7$ $11$"
      ],
      "metadata": {
        "id": "XqI0bOHZvdpo"
      }
    },
    {
      "cell_type": "code",
      "source": [
        "n = int(input())\n",
        "for i in range(1, n):\n",
        "  if cmmdc(i,n) == 1:\n",
        "    print(i)\n"
      ],
      "metadata": {
        "id": "27HFrMFdvvE9",
        "colab": {
          "base_uri": "https://localhost:8080/"
        },
        "outputId": "dcf3082f-b743-4c9b-f1c4-2f154fbcc6b6"
      },
      "outputs": [
        {
          "output_type": "stream",
          "name": "stdout",
          "text": [
            "12\n",
            "1\n",
            "5\n",
            "7\n",
            "11\n"
          ]
        }
      ],
      "execution_count": null
    },
    {
      "cell_type": "markdown",
      "source": [
        "10. Citim de la tastatură două numere naturale nenule. Determinați cel mai mic multiplu comun pentru răsturnatele acestor numere.\n",
        "\n",
        "**Exemplu**: pentru numerele $12$ și $53$ vom avea răsturnatele $21$ și $35$, iar cel mai mic multiplu comun o să fie $\\frac{21 \\cdot 35}{cmmdc(21, 35)} = \\frac{21 \\cdot 35}{7}$.\n",
        "\n",
        "Stabiliți dacă aveți nevoie de implementarea unor funcții auxiliare."
      ],
      "metadata": {
        "id": "vpFKtvgovwXy"
      }
    },
    {
      "cell_type": "code",
      "source": [
        "def rasturnat(n):\n",
        "  r = 0\n",
        "  while n:\n",
        "    r = r*10 + n%10\n",
        "    n//=10\n",
        "  return r\n",
        "a = int(input())\n",
        "b = int(input())\n",
        "a = rasturnat(a)\n",
        "b = rasturnat(b)\n",
        "print(a*b/cmmdc(a,b))"
      ],
      "metadata": {
        "id": "DuUDTJAdwSLa",
        "colab": {
          "base_uri": "https://localhost:8080/"
        },
        "outputId": "b8ddaa19-bdf1-475e-9a5f-18538b9bcb99"
      },
      "outputs": [
        {
          "output_type": "stream",
          "name": "stdout",
          "text": [
            "12\n",
            "53\n",
            "105.0\n"
          ]
        }
      ],
      "execution_count": null
    }
  ]
}