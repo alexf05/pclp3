{
  "nbformat": 4,
  "nbformat_minor": 0,
  "metadata": {
    "colab": {
      "provenance": [],
      "name": "grile_UMF.ipynb",
      "authorship_tag": "ABX9TyMALqSjPQ0iVFo16bVgQD0T",
      "include_colab_link": true
    },
    "kernelspec": {
      "name": "python3",
      "display_name": "Python 3"
    },
    "language_info": {
      "name": "python"
    }
  },
  "cells": [
    {
      "cell_type": "markdown",
      "metadata": {
        "id": "view-in-github",
        "colab_type": "text"
      },
      "source": [
        "<a href=\"https://colab.research.google.com/github/alexf05/pclp3/blob/main/grile_UMF.ipynb\" target=\"_parent\"><img src=\"https://colab.research.google.com/assets/colab-badge.svg\" alt=\"Open In Colab\"/></a>"
      ]
    },
    {
      "cell_type": "code",
      "execution_count": null,
      "metadata": {
        "id": "TsHWx56ZinEn"
      },
      "outputs": [],
      "source": [
        "#FECHET Alex-Ciprian\n",
        "# alex_ciprian.fechet@stud.acs.upb.ro"
      ]
    }
  ]
}