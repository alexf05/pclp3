{
  "cells": [
    {
      "cell_type": "markdown",
      "metadata": {
        "id": "fH0HLOyI5jCD"
      },
      "source": [
        "## PCLP3  Laboratorul 3 : NumPy\n",
        "\n",
        "\n",
        "- Andrei-Daniel Voicu: <andrei.voicu133@gmail.com>\n",
        "- Mihai Nan: <mihai.nan@upb.ro>"
      ]
    },
    {
      "cell_type": "markdown",
      "metadata": {
        "id": "sCzjBMyCHmVl"
      },
      "source": [
        "## Ce este NumPy?"
      ]
    },
    {
      "cell_type": "markdown",
      "metadata": {
        "id": "x5nCQyrjLjkY"
      },
      "source": [
        "**NumPy** este un pachet Python folosit în principal pentru calcul științific și numeric. Este foarte popular în rândul oamenilor de știință din domeniul datelor și al analiștilor pentru eficiența sa și gama largă de operații pe array-uri pe care le oferă."
      ]
    },
    {
      "cell_type": "code",
      "execution_count": 2,
      "metadata": {
        "colab": {
          "base_uri": "https://localhost:8080/"
        },
        "id": "nNTm7NY_Hl_W",
        "outputId": "f492480a-2d12-47f4-9010-a0b28e3b5ac9"
      },
      "outputs": [
        {
          "output_type": "stream",
          "name": "stdout",
          "text": [
            "<class 'numpy.ndarray'>\n",
            "[1 2 3]\n",
            "[[1.5 2.  3. ]\n",
            " [4.  5.  6. ]]\n"
          ]
        }
      ],
      "source": [
        "import numpy as np\n",
        "\n",
        "# Definirea unui tablou unidimensional\n",
        "a = np.array([1,2,3])\n",
        "print(type(a))\n",
        "print(a)\n",
        "\n",
        "# Definirea unui tablou bidimensional, cu elemente de tip float\n",
        "b = np.array([(1.5,2,3), (4,5,6)], dtype = float)\n",
        "print(b)"
      ]
    },
    {
      "cell_type": "markdown",
      "metadata": {
        "id": "ZB9jqcV0HmP1"
      },
      "source": [
        "## De ce utilizam NumPy?"
      ]
    },
    {
      "cell_type": "markdown",
      "metadata": {
        "id": "KIcijocFID02"
      },
      "source": [
        "| Avantaje | Dezavantaje |\n",
        "| --- | --- |\n",
        "| Operații vectorizate eficient | Necesită timp pentru a-l învăța |\n",
        "| Simplificarea lucrului cu tablouri multi-dimensionale | Listele NumPy sunt omogene |\n",
        "| Gamă largă de funcții matematice | Suport restrâns pentru alte tipuri decât cele numerice |\n",
        "| Performanțe uluitoare | Nu este adecvat pentru colectii de date tabelare (unde pot lipsi valori) |"
      ]
    },
    {
      "cell_type": "markdown",
      "metadata": {
        "id": "pVndhx6b2lz4"
      },
      "source": [
        "Mai întâi, să luăm în considerare modul în care listele Python și vectorii Numpy stochează datele. O listă Python stochează elemente ca obiecte separate, fiecare poate fi de orice tip. Cu toate acestea, un vector NumPy este un vector de tip omogen, ceea ce înseamnă că toate elementele din vector sunt de același tip, reducând semnificativ utilizarea memoriei.\n",
        "\n",
        "De exemplu, să presupunem că dorim să stocăm un interval de 1000 de numere întregi. Să comparăm utilizarea memoriei unei liste Python și a unui vector Numpy:"
      ]
    },
    {
      "cell_type": "code",
      "execution_count": null,
      "metadata": {
        "id": "wwtIPOKF248U",
        "outputId": "72c13fb8-7f5f-49cb-d0f7-7d2a709286ff"
      },
      "outputs": [
        {
          "name": "stdout",
          "output_type": "stream",
          "text": [
            "8448728\n",
            "8000104\n"
          ]
        }
      ],
      "source": [
        "import sys\n",
        "import numpy as np\n",
        "\n",
        "list_of_numbers = []\n",
        "for i in range(1000000):\n",
        "    list_of_numbers.append(i)\n",
        "sys.getsizeof(list_of_numbers)\n",
        "\n",
        "arr = np.zeros((1000000,))\n",
        "for i in range(1000000):\n",
        "    arr[i] = i\n",
        "\n",
        "print(sys.getsizeof(list_of_numbers))\n",
        "print(sys.getsizeof(arr))"
      ]
    },
    {
      "cell_type": "markdown",
      "metadata": {
        "id": "fNR1GMGB3EcC"
      },
      "source": [
        "Acum să trecem la viteza de calcul. Deoarece Numpy utilizează blocuri continue de memorie, acesta poate profita de operațiunile vectorizate, care sunt procesate utilizând instrucțiuni SIMD (Single Instruction, Multiple Data). Acest lucru duce la calcule mai rapide. Listele Python, pe de altă parte, nu beneficiază de acest lucru din cauza stocării lor împrăștiată în memorie ."
      ]
    },
    {
      "cell_type": "code",
      "execution_count": 3,
      "metadata": {
        "id": "-GdtLnHe3Elw",
        "outputId": "5abce164-00b3-423b-bb46-18108c4135c7",
        "colab": {
          "base_uri": "https://localhost:8080/"
        }
      },
      "outputs": [
        {
          "output_type": "stream",
          "name": "stdout",
          "text": [
            "Time taken to add Python lists:  0.0630643367767334\n",
            "Time taken to add Numpy arrays:  0.007475614547729492\n"
          ]
        }
      ],
      "source": [
        "import numpy as np\n",
        "import time\n",
        "\n",
        "# Define two Python lists\n",
        "py_list1 = list(range(1000000))\n",
        "py_list2 = list(range(1000000, 2000000))\n",
        "\n",
        "# Define two Numpy arrays\n",
        "np_array1 = np.arange(1000000)\n",
        "np_array2 = np.arange(1000000, 2000000)\n",
        "\n",
        "# Adding Python lists\n",
        "start_time = time.time()\n",
        "result_list = [a + b for a, b in zip(py_list1, py_list2)]\n",
        "print(\"Time taken to add Python lists: \", time.time() - start_time)\n",
        "\n",
        "# Adding Numpy arrays\n",
        "start_time = time.time()\n",
        "result_array = np_array1 + np_array2\n",
        "print(\"Time taken to add Numpy arrays: \", time.time() - start_time)"
      ]
    },
    {
      "cell_type": "markdown",
      "metadata": {
        "id": "TGM2bew6I5LP"
      },
      "source": [
        "## Operatii NumPy"
      ]
    },
    {
      "cell_type": "markdown",
      "metadata": {
        "id": "lpUCRN5hH--0"
      },
      "source": [
        "### Operații matematice"
      ]
    },
    {
      "cell_type": "code",
      "execution_count": null,
      "metadata": {
        "colab": {
          "base_uri": "https://localhost:8080/"
        },
        "id": "rC8YYTAiI1Y0",
        "outputId": "f44c42b8-e244-439b-87e8-923c77d80b8b"
      },
      "outputs": [
        {
          "name": "stdout",
          "output_type": "stream",
          "text": [
            "Adunare: [ 9  8  3 10 15]\n",
            "Scadere: [ 5 -2  1  2 -5]\n",
            "Inmultire: [14 15  2 24 50]\n",
            "Impartire: [3.5 0.6 2.  1.5 0.5]\n",
            "Medie: 4.6\n",
            "Suma: 23\n",
            "Max: 7\n",
            "Min: 2\n"
          ]
        }
      ],
      "source": [
        "arr1 = np.array([7, 3, 2, 6, 5])\n",
        "arr2 = np.array([2, 5, 1, 4, 10])\n",
        "\n",
        "# Operații matematice\n",
        "arr_add = arr1 + arr2\n",
        "arr_sub = arr1 - arr2\n",
        "arr_mul = arr1 * arr2\n",
        "arr_div = arr1 / arr2\n",
        "\n",
        "print(f\"Adunare: {arr_add}\")\n",
        "print(f\"Scadere: {arr_sub}\")\n",
        "print(f\"Inmultire: {arr_mul}\")\n",
        "print(f\"Impartire: {arr_div}\")\n",
        "\n",
        "# Funcții statistice\n",
        "mean = np.mean(arr1)\n",
        "sum = np.sum(arr1)\n",
        "max = np.max(arr1)\n",
        "min = np.min(arr1)\n",
        "\n",
        "print(f\"Medie: {mean}\")\n",
        "print(f\"Suma: {sum}\")\n",
        "print(f\"Max: {max}\")\n",
        "print(f\"Min: {min}\")"
      ]
    },
    {
      "cell_type": "markdown",
      "metadata": {
        "id": "T4xaKUqHJWRE"
      },
      "source": []
    },
    {
      "cell_type": "markdown",
      "metadata": {
        "id": "9UUhBAaVG6EE"
      },
      "source": [
        "### Transformări"
      ]
    },
    {
      "cell_type": "markdown",
      "metadata": {
        "id": "FlNovnTwHXCf"
      },
      "source": [
        "Extragerea elementelor este identică cu extragerea elementelor din listele Python clasice:"
      ]
    },
    {
      "cell_type": "code",
      "execution_count": null,
      "metadata": {
        "colab": {
          "base_uri": "https://localhost:8080/"
        },
        "id": "ZnbFJQ2xG8cE",
        "outputId": "b8e12b1a-6f19-4fee-a2d8-9a6f926e9389"
      },
      "outputs": [
        {
          "name": "stdout",
          "output_type": "stream",
          "text": [
            "4\n",
            "2\n"
          ]
        }
      ],
      "source": [
        "# Extragerea unui element din vector.\n",
        "a = np.array([4,6,9])\n",
        "print(a[0])\n",
        "\n",
        "# Extragerea unui element in cazul unui tablou multi-dimensional.\n",
        "a = np.array([(1,2,3), (4,5,6)], dtype = int)\n",
        "print(a[0][1])"
      ]
    },
    {
      "cell_type": "markdown",
      "metadata": {
        "id": "NRq1uxSqHkFC"
      },
      "source": [
        "Putem sa utilizăm \"slicing\" tot în același mod cum utilizăm pe listele Python."
      ]
    },
    {
      "cell_type": "code",
      "execution_count": null,
      "metadata": {
        "id": "Y5Ax_ZNAHkMu"
      },
      "outputs": [],
      "source": [
        "a = np.array( [4,6,9] )\n",
        "print(a[0:2])"
      ]
    },
    {
      "cell_type": "markdown",
      "metadata": {
        "id": "4jyGZoa0KIhu"
      },
      "source": [
        "O funcționalitate foarte puternică o reprezintă posibilitatea filtrării datelor printr-o expresie logică (formă și mai compactă asemănătoare cu list comprehensions)."
      ]
    },
    {
      "cell_type": "code",
      "execution_count": null,
      "metadata": {
        "id": "ZyWdh6n2KIpa"
      },
      "outputs": [],
      "source": [
        "numbers = np.array([1, 2, 3, 4, 5, 6, 7, 8, 9, 10])\n",
        "\n",
        "# Crearea unei copii.\n",
        "numbers_copy = numbers.copy()\n",
        "\n",
        "# Modificarea valorilor pare la 0.\n",
        "numbers_copy[numbers % 2 == 0] = 0\n",
        "\n",
        "print(numbers_copy)"
      ]
    },
    {
      "cell_type": "markdown",
      "metadata": {
        "id": "u2ZMXOWXH-BO"
      },
      "source": [
        "Există și câteva funcții des utilizate pentru a modifica forma tablourilor."
      ]
    },
    {
      "cell_type": "code",
      "execution_count": 8,
      "metadata": {
        "id": "NTgR2cuzIAAx",
        "colab": {
          "base_uri": "https://localhost:8080/"
        },
        "outputId": "bca5e274-a0af-4c06-b42f-8c9bf9cd6682"
      },
      "outputs": [
        {
          "output_type": "stream",
          "name": "stdout",
          "text": [
            "Flatten: [1 2 3 4 5 6 7 8 9]\n",
            "Transpose:\n",
            " [[1 4 7]\n",
            " [2 5 8]\n",
            " [3 6 9]]\n",
            "Reshape: [[1 2 3 4 5 6 7 8 9]]\n"
          ]
        }
      ],
      "source": [
        "arr = np.array([[1, 2, 3], [4, 5, 6], [7, 8, 9]])\n",
        "\n",
        "# Transformă array-ul 2D într-unul 1D\n",
        "flattened = arr.flatten()\n",
        "\n",
        "# Transpune array-ul 2D\n",
        "transposed = arr.T\n",
        "\n",
        "# Transformă array-ul 2D într-unul 1D\n",
        "reshaped = arr.reshape(1, 9)\n",
        "\n",
        "print(f\"Flatten: {flattened}\")\n",
        "print(f\"Transpose:\\n {transposed}\")\n",
        "print(f\"Reshape: {reshaped}\")"
      ]
    },
    {
      "cell_type": "markdown",
      "metadata": {
        "id": "q1WjNeRR52Fy"
      },
      "source": [
        "## Exerciții propuse"
      ]
    },
    {
      "cell_type": "markdown",
      "metadata": {
        "id": "Nq_DUvAO5N6m"
      },
      "source": [
        "1. Construiți un vector cu primele 16 numere naturale nenule. Pentru acest vector aplicați o operație care să-l transforme într-o matrice cu 4 linii și 4 coloane."
      ]
    },
    {
      "cell_type": "code",
      "execution_count": 31,
      "metadata": {
        "id": "M7RzYRdk5OET",
        "colab": {
          "base_uri": "https://localhost:8080/"
        },
        "outputId": "b0f3479a-e456-41cc-ebd6-3c01a63fcfcc"
      },
      "outputs": [
        {
          "output_type": "stream",
          "name": "stdout",
          "text": [
            "[ 1  2  3  4  5  6  7  8  9 10 11 12 13 14 15 16]\n",
            "[[ 1  2  3  4]\n",
            " [ 5  6  7  8]\n",
            " [ 9 10 11 12]\n",
            " [13 14 15 16]]\n"
          ]
        }
      ],
      "source": [
        "arr = np.array(range(1,17))\n",
        "print(arr)\n",
        "reshape = arr.reshape((4, 4))\n",
        "print(reshape)"
      ]
    },
    {
      "cell_type": "markdown",
      "metadata": {
        "id": "hVdNuHKJ5OLs"
      },
      "source": [
        "2. Pornind de la matricea definită la exercițiul anterior, scrieți instrucțiuni pentru afișarea elementelor colorate în următoarea imagine.\n",
        "\n",
        "<a href=\"https://ibb.co/mNtNfh5\"><img src=\"https://i.ibb.co/qJ9JTmY/Screenshot-from-2024-04-22-01-19-12.png\" alt=\"Screenshot-from-2024-04-22-01-19-12\" border=\"0\"></a>"
      ]
    },
    {
      "cell_type": "markdown",
      "source": [],
      "metadata": {
        "id": "mXH9Xa_XiDrL"
      }
    },
    {
      "cell_type": "code",
      "execution_count": 45,
      "metadata": {
        "id": "YuhDsSmK5OSt",
        "colab": {
          "base_uri": "https://localhost:8080/"
        },
        "outputId": "3c154487-a2d9-4171-cbaf-51c447277625"
      },
      "outputs": [
        {
          "output_type": "stream",
          "name": "stdout",
          "text": [
            "[7 8]\n",
            "[ 2  6 10 14]\n",
            "[[11 12]\n",
            " [15 16]]\n",
            "5 7 13 15 "
          ]
        }
      ],
      "source": [
        "print(reshape[1][2:4])\n",
        "print(reshape[0:4, 1])\n",
        "print(reshape[2:4, 2:4])\n",
        "print(reshape[1][0], end =' ')\n",
        "print(reshape[1][2], end =' ')\n",
        "print(reshape[3][0], end =' ')\n",
        "print(reshape[3][2], end =' ')"
      ]
    },
    {
      "cell_type": "markdown",
      "metadata": {
        "id": "_L0oEyLclnaN"
      },
      "source": [
        "3. Implementați funcția care calculează descompunerea $L \\cdot U$ pentru o matrice $A$. Pentru acest lucru, urmăriți pașii:"
      ]
    },
    {
      "cell_type": "markdown",
      "metadata": {
        "id": "UZz4VazD5OYG"
      },
      "source": [
        "1. Inițializăm matricea $L$ cu matricea identitate $I$.\n",
        "2. Inițializăm $U$ cu $A$\n",
        "3. Pentru $i = 1, \\dots, n$\n",
        "\t4. Pentru $j = i+1, \\dots, n$\n",
        "\t\t5. $L_{ji} = \\frac{U_{ji}}{U_{ii}}$\n",
        "\t\t6. $U_j = (U_j - L_{ji}U_{i})$, unde $U_{i}$ reprezintă linia $i$ din $U$   \n",
        "7. Returnăm tuplul cu $L$ și $U$"
      ]
    },
    {
      "cell_type": "code",
      "execution_count": 61,
      "metadata": {
        "id": "4ypHHnUr5Oc2",
        "colab": {
          "base_uri": "https://localhost:8080/"
        },
        "outputId": "0a252290-d172-4242-87c9-d015eec3ff82"
      },
      "outputs": [
        {
          "output_type": "stream",
          "name": "stdout",
          "text": [
            "[[1. 0. 0.]\n",
            " [2. 1. 0.]\n",
            " [3. 2. 1.]]\n",
            "[[ 1  2  3]\n",
            " [ 0 -1 -2]\n",
            " [ 0  0  0]]\n"
          ]
        }
      ],
      "source": [
        "def lu(A):\n",
        "    n = np.size(A, 1)\n",
        "    L = np.eye(n)\n",
        "    U = A\n",
        "    for i in range(n):\n",
        "      for j in range(i + 1, n):\n",
        "        L[j][i] = U[j][i]/U[i][i]\n",
        "        U[j] = U[j] - L[j][i] * U[i]\n",
        "    return [L, U]\n",
        "A = np.array([[1,2,3],[2, 3, 4],[3, 4, 5]])\n",
        "[L,U] = lu(A)\n",
        "print(L)\n",
        "print(U)\n"
      ]
    },
    {
      "cell_type": "markdown",
      "metadata": {
        "id": "8liav7Sa5Rxl"
      },
      "source": [
        "4. Implementați o funcție care preia ca input un array unidimensional și returnează o matrice bidimensională. Transformarea din array unidimensional în matrice bidimensională se va face folosind conceptul de \"strides\" sau pași.\n",
        "Pentru context, fiecare \"pas\" reprezintă o deplasare în array-ul unidimensional, iar \"lungimea ferestrei\" indică numărul de elemente din array care vor fi incluse în fiecare sub-array al matricei bidimensionale.\n",
        "\n",
        "**Hint:**\n",
        "  *numpy.lib.stride_tricks*"
      ]
    },
    {
      "cell_type": "code",
      "execution_count": 79,
      "metadata": {
        "id": "oXYQh4d35Omz",
        "colab": {
          "base_uri": "https://localhost:8080/"
        },
        "outputId": "c657b295-8f0c-411f-82a5-822a2d781d21"
      },
      "outputs": [
        {
          "output_type": "stream",
          "name": "stdout",
          "text": [
            "[[1. 2. 3.]\n",
            " [3. 4. 5.]\n",
            " [5. 6. 7.]]\n"
          ]
        }
      ],
      "source": [
        "def gen_strides(a, stride_len, window_len):\n",
        "  n = np.size(A)\n",
        "  rows = (n - window_len)//stride_len + 1\n",
        "  a_s = np.zeros((rows, window_len))\n",
        "  idx = 0\n",
        "  for i in range(rows):\n",
        "    for j in range(window_len):\n",
        "      a_s[i][j] = a[idx + j]\n",
        "    idx = idx + stride_len\n",
        "  return a_s\n",
        "A = np.array([1,2,3,4,5,6,7], dtype=np.int32)\n",
        "print(gen_strides(A, 2, 3))"
      ]
    },
    {
      "cell_type": "markdown",
      "metadata": {
        "id": "CSkQEYzZ0JQS"
      },
      "source": [
        "5. Citiți de la intrare două matrici de dimensiuni diferite, prima de dimensiune (n, m) și a doua de dimensiune (p, q). Implementați o funcție care să calculeze și să returneze produsul Kronecker între cele două matrici introduse.\n",
        "\n",
        "**Intrare:**\n",
        "- Prima linie conține două numere întregi, n și m, reprezentând dimensiunile primei matrici.\n",
        "- Următoarele n linii conțin câte m numere fiecare, reprezentând elementele primei matrici.\n",
        "- Linia următoare conține două numere întregi, p și q, reprezentând dimensiunile celei de-a doua matrici.\n",
        "- Următoarele p linii conțin câte q numere fiecare, reprezentând elementele celei de-a doua matrici.\n",
        "\n",
        "**Ieșire:**\n",
        "- Matricea rezultată din calcularea produsului Kronecker între cele două matrici introduse.\n",
        "\n",
        "\n",
        "**Hint:**\n",
        "- Produsul Kronecker între două matrici este o operație care combină două matrici pentru a produce o nouă matrice. Mai multe detalii despre cum se calculează produsul Kronecker între două matrici puteți găsi [aici](https://en.wikipedia.org/wiki/Kronecker_product).\n",
        "- În Python, produsul Kronecker între două matrici se poate calcula cu ajutorul funcției numpy.kron."
      ]
    },
    {
      "cell_type": "code",
      "execution_count": 88,
      "metadata": {
        "id": "F9CKnVOU0Iv7",
        "colab": {
          "base_uri": "https://localhost:8080/"
        },
        "outputId": "41c7d017-0807-4f75-eaee-1eae27a5ad4f"
      },
      "outputs": [
        {
          "output_type": "stream",
          "name": "stdout",
          "text": [
            "[[ 1.  2.  3.  2.  4.  6.]\n",
            " [ 2.  3.  4.  4.  6.  8.]\n",
            " [ 2.  4.  6.  3.  6.  9.]\n",
            " [ 4.  6.  8.  6.  9. 12.]\n",
            " [ 3.  6.  9.  4.  8. 12.]\n",
            " [ 6.  9. 12.  8. 12. 16.]]\n",
            "[[ 1  2  3  2  4  6]\n",
            " [ 2  3  4  4  6  8]\n",
            " [ 2  4  6  3  6  9]\n",
            " [ 4  6  8  6  9 12]\n",
            " [ 3  6  9  4  8 12]\n",
            " [ 6  9 12  8 12 16]]\n"
          ]
        }
      ],
      "source": [
        "def p_kron(a,b):\n",
        "  m, n = a.shape\n",
        "  p, q = b.shape\n",
        "  rez = np.zeros((m*p, n*q))\n",
        "  for i in range(m*p):\n",
        "    for j in range(n*q):\n",
        "      rez[i][j] = a[i//p][j//q]*b[i%p][j%q]\n",
        "  return rez\n",
        "A = np.array([[1,2],[2, 3],[3, 4]])\n",
        "B = np.array([[1,2,3],[2, 3, 4]])\n",
        "print(p_kron(A,B))\n",
        "print(np.kron(A,B))"
      ]
    },
    {
      "cell_type": "markdown",
      "metadata": {
        "id": "XtqQzSGv0wFg"
      },
      "source": [
        "6. Implementați un algoritm de detecție a contururilor dintr-o imagine folosind operatorul Sobel. Programul ar trebui să încarce o imagine de la intrare, să aplice filtrul Sobel pentru a detecta marginile și apoi să salveze imaginea rezultată.\n",
        "\n",
        "**Hint:**\n",
        "- Operatorul Sobel: https://homepages.inf.ed.ac.uk/rbf/HIPR2/sobel.htm\n",
        "  "
      ]
    },
    {
      "cell_type": "code",
      "execution_count": 89,
      "metadata": {
        "id": "orwvxXgS0uF3",
        "colab": {
          "base_uri": "https://localhost:8080/",
          "height": 316
        },
        "outputId": "cd2bb49d-10a8-4436-b8c4-be0b5f8151e0"
      },
      "outputs": [
        {
          "output_type": "error",
          "ename": "FileNotFoundError",
          "evalue": "[Errno 2] No such file or directory: 'test.png'",
          "traceback": [
            "\u001b[0;31m---------------------------------------------------------------------------\u001b[0m",
            "\u001b[0;31mFileNotFoundError\u001b[0m                         Traceback (most recent call last)",
            "\u001b[0;32m<ipython-input-89-3a9a23a113b3>\u001b[0m in \u001b[0;36m<cell line: 0>\u001b[0;34m()\u001b[0m\n\u001b[1;32m     19\u001b[0m \u001b[0;34m\u001b[0m\u001b[0m\n\u001b[1;32m     20\u001b[0m \u001b[0;32mif\u001b[0m \u001b[0m__name__\u001b[0m \u001b[0;34m==\u001b[0m \u001b[0;34m\"__main__\"\u001b[0m\u001b[0;34m:\u001b[0m\u001b[0;34m\u001b[0m\u001b[0;34m\u001b[0m\u001b[0m\n\u001b[0;32m---> 21\u001b[0;31m     \u001b[0mmain\u001b[0m\u001b[0;34m(\u001b[0m\u001b[0;34m)\u001b[0m\u001b[0;34m\u001b[0m\u001b[0;34m\u001b[0m\u001b[0m\n\u001b[0m",
            "\u001b[0;32m<ipython-input-89-3a9a23a113b3>\u001b[0m in \u001b[0;36mmain\u001b[0;34m()\u001b[0m\n\u001b[1;32m      8\u001b[0m \u001b[0;32mdef\u001b[0m \u001b[0mmain\u001b[0m\u001b[0;34m(\u001b[0m\u001b[0;34m)\u001b[0m\u001b[0;34m:\u001b[0m\u001b[0;34m\u001b[0m\u001b[0;34m\u001b[0m\u001b[0m\n\u001b[1;32m      9\u001b[0m     \u001b[0;31m# Load the image\u001b[0m\u001b[0;34m\u001b[0m\u001b[0;34m\u001b[0m\u001b[0m\n\u001b[0;32m---> 10\u001b[0;31m     \u001b[0mimg\u001b[0m \u001b[0;34m=\u001b[0m \u001b[0mImage\u001b[0m\u001b[0;34m.\u001b[0m\u001b[0mopen\u001b[0m\u001b[0;34m(\u001b[0m\u001b[0;34m\"test.png\"\u001b[0m\u001b[0;34m)\u001b[0m\u001b[0;34m.\u001b[0m\u001b[0mconvert\u001b[0m\u001b[0;34m(\u001b[0m\u001b[0;34m'L'\u001b[0m\u001b[0;34m)\u001b[0m\u001b[0;34m\u001b[0m\u001b[0;34m\u001b[0m\u001b[0m\n\u001b[0m\u001b[1;32m     11\u001b[0m     \u001b[0mimg\u001b[0m \u001b[0;34m=\u001b[0m \u001b[0mnp\u001b[0m\u001b[0;34m.\u001b[0m\u001b[0marray\u001b[0m\u001b[0;34m(\u001b[0m\u001b[0mimg\u001b[0m\u001b[0;34m)\u001b[0m\u001b[0;34m\u001b[0m\u001b[0;34m\u001b[0m\u001b[0m\n\u001b[1;32m     12\u001b[0m \u001b[0;34m\u001b[0m\u001b[0m\n",
            "\u001b[0;32m/usr/local/lib/python3.11/dist-packages/PIL/Image.py\u001b[0m in \u001b[0;36mopen\u001b[0;34m(fp, mode, formats)\u001b[0m\n\u001b[1;32m   3463\u001b[0m \u001b[0;34m\u001b[0m\u001b[0m\n\u001b[1;32m   3464\u001b[0m     \u001b[0;32mif\u001b[0m \u001b[0mfilename\u001b[0m\u001b[0;34m:\u001b[0m\u001b[0;34m\u001b[0m\u001b[0;34m\u001b[0m\u001b[0m\n\u001b[0;32m-> 3465\u001b[0;31m         \u001b[0mfp\u001b[0m \u001b[0;34m=\u001b[0m \u001b[0mbuiltins\u001b[0m\u001b[0;34m.\u001b[0m\u001b[0mopen\u001b[0m\u001b[0;34m(\u001b[0m\u001b[0mfilename\u001b[0m\u001b[0;34m,\u001b[0m \u001b[0;34m\"rb\"\u001b[0m\u001b[0;34m)\u001b[0m\u001b[0;34m\u001b[0m\u001b[0;34m\u001b[0m\u001b[0m\n\u001b[0m\u001b[1;32m   3466\u001b[0m         \u001b[0mexclusive_fp\u001b[0m \u001b[0;34m=\u001b[0m \u001b[0;32mTrue\u001b[0m\u001b[0;34m\u001b[0m\u001b[0;34m\u001b[0m\u001b[0m\n\u001b[1;32m   3467\u001b[0m     \u001b[0;32melse\u001b[0m\u001b[0;34m:\u001b[0m\u001b[0;34m\u001b[0m\u001b[0;34m\u001b[0m\u001b[0m\n",
            "\u001b[0;31mFileNotFoundError\u001b[0m: [Errno 2] No such file or directory: 'test.png'"
          ]
        }
      ],
      "source": [
        "import numpy as np\n",
        "from PIL import Image\n",
        "import cv2\n",
        "\n",
        "def sobel_edge_detection(img):\n",
        "    # TODO 6\n",
        "    sobel_x = np.array([[-1, 0, 1],\n",
        "                        [-2, 0, 2],\n",
        "                        [-1, 0, 1]])\n",
        "\n",
        "    sobel_y = np.array([[-1, -2, -1],\n",
        "                        [ 0,  0,  0],\n",
        "                        [ 1,  2,  1]])\n",
        "    grad_x = cv2.filter2D(img, -1, sobel_x)\n",
        "    grad_y = cv2.filter2D(img, -1, sobel_y)\n",
        "    gradient_magnitude = np.sqrt(np.square(grad_x) + np.square(grad_y))\n",
        "    gradient_magnitude = gradient_magnitude / gradient_magnitude.max() * 255\n",
        "    gradient_magnitude = gradient_magnitude.astype(np.uint8)\n",
        "\n",
        "def main():\n",
        "    # Load the image\n",
        "    img = Image.open(\"test.png\").convert('L')\n",
        "    img = np.array(img)\n",
        "\n",
        "    # Apply Sobel edge detection\n",
        "    sobel_img = sobel_edge_detection(img)\n",
        "\n",
        "    # Convert the result to an image and save it\n",
        "    sobel_img = Image.fromarray(sobel_img)\n",
        "    sobel_img.convert('RGB').save(\"output.jpg\")\n",
        "\n",
        "if __name__ == \"__main__\":\n",
        "    main()"
      ]
    }
  ],
  "metadata": {
    "colab": {
      "collapsed_sections": [
        "lpUCRN5hH--0"
      ],
      "provenance": []
    },
    "kernelspec": {
      "display_name": "Python 3 (ipykernel)",
      "language": "python",
      "name": "python3"
    },
    "language_info": {
      "codemirror_mode": {
        "name": "ipython",
        "version": 3
      },
      "file_extension": ".py",
      "mimetype": "text/x-python",
      "name": "python",
      "nbconvert_exporter": "python",
      "pygments_lexer": "ipython3",
      "version": "3.9.13"
    }
  },
  "nbformat": 4,
  "nbformat_minor": 0
}